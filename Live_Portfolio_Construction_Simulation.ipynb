{
  "cells": [
    {
      "cell_type": "code",
      "execution_count": 4,
      "metadata": {
        "colab": {
          "base_uri": "https://localhost:8080/"
        },
        "id": "2LP-6ybuQRvl",
        "outputId": "fe870920-fbe9-4b9d-b99d-9ff06a55f1f2"
      },
      "outputs": [
        {
          "name": "stdout",
          "output_type": "stream",
          "text": [
            "Note: you may need to restart the kernel to use updated packages.\n"
          ]
        }
      ],
      "source": [
        "pip install yfinance --quiet"
      ]
    },
    {
      "cell_type": "code",
      "execution_count": 5,
      "metadata": {
        "colab": {
          "base_uri": "https://localhost:8080/"
        },
        "id": "tAvvn-U3SNi9",
        "outputId": "5d65e951-4d89-4e16-e972-144cedc9e874"
      },
      "outputs": [
        {
          "name": "stdout",
          "output_type": "stream",
          "text": [
            "Note: you may need to restart the kernel to use updated packages.\n"
          ]
        }
      ],
      "source": [
        "pip install pyfolio --quiet"
      ]
    },
    {
      "cell_type": "code",
      "execution_count": 6,
      "metadata": {
        "colab": {
          "base_uri": "https://localhost:8080/"
        },
        "id": "AgqQPGDsSSfd",
        "outputId": "bbc62caf-84ab-441a-ab42-934d5e07b903"
      },
      "outputs": [
        {
          "ename": "AttributeError",
          "evalue": "module 'matplotlib' has no attribute 'get_data_path'",
          "output_type": "error",
          "traceback": [
            "\u001b[1;31m---------------------------------------------------------------------------\u001b[0m",
            "\u001b[1;31mAttributeError\u001b[0m                            Traceback (most recent call last)",
            "\u001b[1;32md:\\Code\\TS proj\\Live_Portfolio_Construction_Simulation.ipynb Cell 3\u001b[0m in \u001b[0;36m<cell line: 2>\u001b[1;34m()\u001b[0m\n\u001b[0;32m      <a href='vscode-notebook-cell:/d%3A/Code/TS%20proj/Live_Portfolio_Construction_Simulation.ipynb#W2sZmlsZQ%3D%3D?line=0'>1</a>\u001b[0m \u001b[39mimport\u001b[39;00m \u001b[39myfinance\u001b[39;00m \u001b[39mas\u001b[39;00m \u001b[39myf\u001b[39;00m\n\u001b[1;32m----> <a href='vscode-notebook-cell:/d%3A/Code/TS%20proj/Live_Portfolio_Construction_Simulation.ipynb#W2sZmlsZQ%3D%3D?line=1'>2</a>\u001b[0m \u001b[39mimport\u001b[39;00m \u001b[39mpyfolio\u001b[39;00m \u001b[39mas\u001b[39;00m \u001b[39mpf\u001b[39;00m\n\u001b[0;32m      <a href='vscode-notebook-cell:/d%3A/Code/TS%20proj/Live_Portfolio_Construction_Simulation.ipynb#W2sZmlsZQ%3D%3D?line=2'>3</a>\u001b[0m \u001b[39mimport\u001b[39;00m \u001b[39mpandas\u001b[39;00m \u001b[39mas\u001b[39;00m \u001b[39mpd\u001b[39;00m\n\u001b[0;32m      <a href='vscode-notebook-cell:/d%3A/Code/TS%20proj/Live_Portfolio_Construction_Simulation.ipynb#W2sZmlsZQ%3D%3D?line=3'>4</a>\u001b[0m \u001b[39mimport\u001b[39;00m \u001b[39mnumpy\u001b[39;00m \u001b[39mas\u001b[39;00m \u001b[39mnp\u001b[39;00m\n",
            "File \u001b[1;32mc:\\Users\\YashC\\AppData\\Local\\Programs\\Python\\Python310\\lib\\site-packages\\pyfolio\\__init__.py:3\u001b[0m, in \u001b[0;36m<module>\u001b[1;34m\u001b[0m\n\u001b[0;32m      1\u001b[0m \u001b[39mimport\u001b[39;00m \u001b[39mwarnings\u001b[39;00m\n\u001b[1;32m----> 3\u001b[0m \u001b[39mfrom\u001b[39;00m \u001b[39m.\u001b[39;00m \u001b[39mimport\u001b[39;00m utils\n\u001b[0;32m      4\u001b[0m \u001b[39mfrom\u001b[39;00m \u001b[39m.\u001b[39;00m \u001b[39mimport\u001b[39;00m timeseries\n\u001b[0;32m      5\u001b[0m \u001b[39mfrom\u001b[39;00m \u001b[39m.\u001b[39;00m \u001b[39mimport\u001b[39;00m pos\n",
            "File \u001b[1;32mc:\\Users\\YashC\\AppData\\Local\\Programs\\Python\\Python310\\lib\\site-packages\\pyfolio\\utils.py:21\u001b[0m, in \u001b[0;36m<module>\u001b[1;34m\u001b[0m\n\u001b[0;32m     18\u001b[0m \u001b[39mimport\u001b[39;00m \u001b[39mwarnings\u001b[39;00m\n\u001b[0;32m     20\u001b[0m \u001b[39mfrom\u001b[39;00m \u001b[39mitertools\u001b[39;00m \u001b[39mimport\u001b[39;00m cycle\n\u001b[1;32m---> 21\u001b[0m \u001b[39mfrom\u001b[39;00m \u001b[39mmatplotlib\u001b[39;00m\u001b[39m.\u001b[39;00m\u001b[39mpyplot\u001b[39;00m \u001b[39mimport\u001b[39;00m cm\n\u001b[0;32m     22\u001b[0m \u001b[39mimport\u001b[39;00m \u001b[39mnumpy\u001b[39;00m \u001b[39mas\u001b[39;00m \u001b[39mnp\u001b[39;00m\n\u001b[0;32m     23\u001b[0m \u001b[39mimport\u001b[39;00m \u001b[39mpandas\u001b[39;00m \u001b[39mas\u001b[39;00m \u001b[39mpd\u001b[39;00m\n",
            "File \u001b[1;32mc:\\Users\\YashC\\AppData\\Local\\Programs\\Python\\Python310\\lib\\site-packages\\matplotlib\\__init__.py:877\u001b[0m, in \u001b[0;36m<module>\u001b[1;34m\u001b[0m\n\u001b[0;32m    870\u001b[0m     \u001b[39mreturn\u001b[39;00m config\n\u001b[0;32m    873\u001b[0m \u001b[39m# When constructing the global instances, we need to perform certain updates\u001b[39;00m\n\u001b[0;32m    874\u001b[0m \u001b[39m# by explicitly calling the superclass (dict.update, dict.items) to avoid\u001b[39;00m\n\u001b[0;32m    875\u001b[0m \u001b[39m# triggering resolution of _auto_backend_sentinel.\u001b[39;00m\n\u001b[0;32m    876\u001b[0m rcParamsDefault \u001b[39m=\u001b[39m _rc_params_in_file(\n\u001b[1;32m--> 877\u001b[0m     cbook\u001b[39m.\u001b[39;49m_get_data_path(\u001b[39m\"\u001b[39;49m\u001b[39mmatplotlibrc\u001b[39;49m\u001b[39m\"\u001b[39;49m),\n\u001b[0;32m    878\u001b[0m     \u001b[39m# Strip leading comment.\u001b[39;00m\n\u001b[0;32m    879\u001b[0m     transform\u001b[39m=\u001b[39m\u001b[39mlambda\u001b[39;00m line: line[\u001b[39m1\u001b[39m:] \u001b[39mif\u001b[39;00m line\u001b[39m.\u001b[39mstartswith(\u001b[39m\"\u001b[39m\u001b[39m#\u001b[39m\u001b[39m\"\u001b[39m) \u001b[39melse\u001b[39;00m line,\n\u001b[0;32m    880\u001b[0m     fail_on_error\u001b[39m=\u001b[39m\u001b[39mTrue\u001b[39;00m)\n\u001b[0;32m    881\u001b[0m \u001b[39mdict\u001b[39m\u001b[39m.\u001b[39mupdate(rcParamsDefault, rcsetup\u001b[39m.\u001b[39m_hardcoded_defaults)\n\u001b[0;32m    882\u001b[0m \u001b[39m# Normally, the default matplotlibrc file contains *no* entry for backend (the\u001b[39;00m\n\u001b[0;32m    883\u001b[0m \u001b[39m# corresponding line starts with ##, not #; we fill on _auto_backend_sentinel\u001b[39;00m\n\u001b[0;32m    884\u001b[0m \u001b[39m# in that case.  However, packagers can set a different default backend\u001b[39;00m\n\u001b[0;32m    885\u001b[0m \u001b[39m# (resulting in a normal `#backend: foo` line) in which case we should *not*\u001b[39;00m\n\u001b[0;32m    886\u001b[0m \u001b[39m# fill in _auto_backend_sentinel.\u001b[39;00m\n",
            "File \u001b[1;32mc:\\Users\\YashC\\AppData\\Local\\Programs\\Python\\Python310\\lib\\site-packages\\matplotlib\\cbook\\__init__.py:518\u001b[0m, in \u001b[0;36m_get_data_path\u001b[1;34m(*args)\u001b[0m\n\u001b[0;32m    512\u001b[0m \u001b[39mdef\u001b[39;00m \u001b[39m_get_data_path\u001b[39m(\u001b[39m*\u001b[39margs):\n\u001b[0;32m    513\u001b[0m     \u001b[39m\"\"\"\u001b[39;00m\n\u001b[0;32m    514\u001b[0m \u001b[39m    Return the `pathlib.Path` to a resource file provided by Matplotlib.\u001b[39;00m\n\u001b[0;32m    515\u001b[0m \n\u001b[0;32m    516\u001b[0m \u001b[39m    ``*args`` specify a path relative to the base data path.\u001b[39;00m\n\u001b[0;32m    517\u001b[0m \u001b[39m    \"\"\"\u001b[39;00m\n\u001b[1;32m--> 518\u001b[0m     \u001b[39mreturn\u001b[39;00m Path(matplotlib\u001b[39m.\u001b[39;49mget_data_path(), \u001b[39m*\u001b[39margs)\n",
            "\u001b[1;31mAttributeError\u001b[0m: module 'matplotlib' has no attribute 'get_data_path'"
          ]
        }
      ],
      "source": [
        "import yfinance as yf\n",
        "import pyfolio as pf\n",
        "import pandas as pd\n",
        "import numpy as np\n",
        "import matplotlib.pyplot as plt\n"
      ]
    },
    {
      "cell_type": "markdown",
      "metadata": {
        "id": "7ORYWs09S2Yx"
      },
      "source": [
        "**Predefine the proporties of our Data set**"
      ]
    },
    {
      "cell_type": "code",
      "execution_count": null,
      "metadata": {
        "id": "Fjf02ZnISzQk"
      },
      "outputs": [],
      "source": [
        "risky_assets = [\"AAPL\", \"IBM\", \"MSFT\", \"AMZN\"]\n",
        "start_date = \"2018-09-02\"\n",
        "end_date = \"2022-09-02\"\n",
        "n_assets = len(risky_assets)"
      ]
    },
    {
      "cell_type": "code",
      "execution_count": null,
      "metadata": {
        "colab": {
          "base_uri": "https://localhost:8080/"
        },
        "id": "-CB2NgyzVfPk",
        "outputId": "15215c11-3593-4117-a9ea-a3f4198b75e4"
      },
      "outputs": [
        {
          "name": "stdout",
          "output_type": "stream",
          "text": [
            "[*********************100%***********************]  4 of 4 completed\n"
          ]
        }
      ],
      "source": [
        "prices_df1 = yf.download(risky_assets, start_date, end_date)"
      ]
    },
    {
      "cell_type": "code",
      "execution_count": null,
      "metadata": {
        "colab": {
          "base_uri": "https://localhost:8080/",
          "height": 303
        },
        "id": "E7dHLMlyVkIM",
        "outputId": "3a93e2e6-11e1-413f-e107-25fadbed7096"
      },
      "outputs": [
        {
          "data": {
            "text/html": [
              "\n",
              "  <div id=\"df-94448f1d-ead0-4cbf-8a80-e2b3c2e48c66\">\n",
              "    <div class=\"colab-df-container\">\n",
              "      <div>\n",
              "<style scoped>\n",
              "    .dataframe tbody tr th:only-of-type {\n",
              "        vertical-align: middle;\n",
              "    }\n",
              "\n",
              "    .dataframe tbody tr th {\n",
              "        vertical-align: top;\n",
              "    }\n",
              "\n",
              "    .dataframe thead tr th {\n",
              "        text-align: left;\n",
              "    }\n",
              "\n",
              "    .dataframe thead tr:last-of-type th {\n",
              "        text-align: right;\n",
              "    }\n",
              "</style>\n",
              "<table border=\"1\" class=\"dataframe\">\n",
              "  <thead>\n",
              "    <tr>\n",
              "      <th></th>\n",
              "      <th colspan=\"4\" halign=\"left\">Adj Close</th>\n",
              "      <th colspan=\"4\" halign=\"left\">Close</th>\n",
              "      <th colspan=\"2\" halign=\"left\">High</th>\n",
              "      <th>...</th>\n",
              "      <th colspan=\"2\" halign=\"left\">Low</th>\n",
              "      <th colspan=\"4\" halign=\"left\">Open</th>\n",
              "      <th colspan=\"4\" halign=\"left\">Volume</th>\n",
              "    </tr>\n",
              "    <tr>\n",
              "      <th></th>\n",
              "      <th>AAPL</th>\n",
              "      <th>AMZN</th>\n",
              "      <th>IBM</th>\n",
              "      <th>MSFT</th>\n",
              "      <th>AAPL</th>\n",
              "      <th>AMZN</th>\n",
              "      <th>IBM</th>\n",
              "      <th>MSFT</th>\n",
              "      <th>AAPL</th>\n",
              "      <th>AMZN</th>\n",
              "      <th>...</th>\n",
              "      <th>IBM</th>\n",
              "      <th>MSFT</th>\n",
              "      <th>AAPL</th>\n",
              "      <th>AMZN</th>\n",
              "      <th>IBM</th>\n",
              "      <th>MSFT</th>\n",
              "      <th>AAPL</th>\n",
              "      <th>AMZN</th>\n",
              "      <th>IBM</th>\n",
              "      <th>MSFT</th>\n",
              "    </tr>\n",
              "    <tr>\n",
              "      <th>Date</th>\n",
              "      <th></th>\n",
              "      <th></th>\n",
              "      <th></th>\n",
              "      <th></th>\n",
              "      <th></th>\n",
              "      <th></th>\n",
              "      <th></th>\n",
              "      <th></th>\n",
              "      <th></th>\n",
              "      <th></th>\n",
              "      <th></th>\n",
              "      <th></th>\n",
              "      <th></th>\n",
              "      <th></th>\n",
              "      <th></th>\n",
              "      <th></th>\n",
              "      <th></th>\n",
              "      <th></th>\n",
              "      <th></th>\n",
              "      <th></th>\n",
              "      <th></th>\n",
              "    </tr>\n",
              "  </thead>\n",
              "  <tbody>\n",
              "    <tr>\n",
              "      <th>2018-09-04</th>\n",
              "      <td>55.001381</td>\n",
              "      <td>101.975502</td>\n",
              "      <td>114.454758</td>\n",
              "      <td>106.860054</td>\n",
              "      <td>57.090000</td>\n",
              "      <td>101.975502</td>\n",
              "      <td>139.273422</td>\n",
              "      <td>111.709999</td>\n",
              "      <td>57.294998</td>\n",
              "      <td>102.525002</td>\n",
              "      <td>...</td>\n",
              "      <td>138.441681</td>\n",
              "      <td>110.220001</td>\n",
              "      <td>57.102501</td>\n",
              "      <td>101.324997</td>\n",
              "      <td>139.560226</td>\n",
              "      <td>110.849998</td>\n",
              "      <td>109560400</td>\n",
              "      <td>114422000</td>\n",
              "      <td>3479205</td>\n",
              "      <td>22634600</td>\n",
              "    </tr>\n",
              "    <tr>\n",
              "      <th>2018-09-05</th>\n",
              "      <td>54.642506</td>\n",
              "      <td>99.740997</td>\n",
              "      <td>115.224747</td>\n",
              "      <td>103.779854</td>\n",
              "      <td>56.717499</td>\n",
              "      <td>99.740997</td>\n",
              "      <td>140.210327</td>\n",
              "      <td>108.489998</td>\n",
              "      <td>57.417500</td>\n",
              "      <td>102.018997</td>\n",
              "      <td>...</td>\n",
              "      <td>138.671127</td>\n",
              "      <td>108.099998</td>\n",
              "      <td>57.247501</td>\n",
              "      <td>101.905502</td>\n",
              "      <td>138.804977</td>\n",
              "      <td>111.010002</td>\n",
              "      <td>133332000</td>\n",
              "      <td>164412000</td>\n",
              "      <td>3270319</td>\n",
              "      <td>32872400</td>\n",
              "    </tr>\n",
              "  </tbody>\n",
              "</table>\n",
              "<p>2 rows × 24 columns</p>\n",
              "</div>\n",
              "      <button class=\"colab-df-convert\" onclick=\"convertToInteractive('df-94448f1d-ead0-4cbf-8a80-e2b3c2e48c66')\"\n",
              "              title=\"Convert this dataframe to an interactive table.\"\n",
              "              style=\"display:none;\">\n",
              "        \n",
              "  <svg xmlns=\"http://www.w3.org/2000/svg\" height=\"24px\"viewBox=\"0 0 24 24\"\n",
              "       width=\"24px\">\n",
              "    <path d=\"M0 0h24v24H0V0z\" fill=\"none\"/>\n",
              "    <path d=\"M18.56 5.44l.94 2.06.94-2.06 2.06-.94-2.06-.94-.94-2.06-.94 2.06-2.06.94zm-11 1L8.5 8.5l.94-2.06 2.06-.94-2.06-.94L8.5 2.5l-.94 2.06-2.06.94zm10 10l.94 2.06.94-2.06 2.06-.94-2.06-.94-.94-2.06-.94 2.06-2.06.94z\"/><path d=\"M17.41 7.96l-1.37-1.37c-.4-.4-.92-.59-1.43-.59-.52 0-1.04.2-1.43.59L10.3 9.45l-7.72 7.72c-.78.78-.78 2.05 0 2.83L4 21.41c.39.39.9.59 1.41.59.51 0 1.02-.2 1.41-.59l7.78-7.78 2.81-2.81c.8-.78.8-2.07 0-2.86zM5.41 20L4 18.59l7.72-7.72 1.47 1.35L5.41 20z\"/>\n",
              "  </svg>\n",
              "      </button>\n",
              "      \n",
              "  <style>\n",
              "    .colab-df-container {\n",
              "      display:flex;\n",
              "      flex-wrap:wrap;\n",
              "      gap: 12px;\n",
              "    }\n",
              "\n",
              "    .colab-df-convert {\n",
              "      background-color: #E8F0FE;\n",
              "      border: none;\n",
              "      border-radius: 50%;\n",
              "      cursor: pointer;\n",
              "      display: none;\n",
              "      fill: #1967D2;\n",
              "      height: 32px;\n",
              "      padding: 0 0 0 0;\n",
              "      width: 32px;\n",
              "    }\n",
              "\n",
              "    .colab-df-convert:hover {\n",
              "      background-color: #E2EBFA;\n",
              "      box-shadow: 0px 1px 2px rgba(60, 64, 67, 0.3), 0px 1px 3px 1px rgba(60, 64, 67, 0.15);\n",
              "      fill: #174EA6;\n",
              "    }\n",
              "\n",
              "    [theme=dark] .colab-df-convert {\n",
              "      background-color: #3B4455;\n",
              "      fill: #D2E3FC;\n",
              "    }\n",
              "\n",
              "    [theme=dark] .colab-df-convert:hover {\n",
              "      background-color: #434B5C;\n",
              "      box-shadow: 0px 1px 3px 1px rgba(0, 0, 0, 0.15);\n",
              "      filter: drop-shadow(0px 1px 2px rgba(0, 0, 0, 0.3));\n",
              "      fill: #FFFFFF;\n",
              "    }\n",
              "  </style>\n",
              "\n",
              "      <script>\n",
              "        const buttonEl =\n",
              "          document.querySelector('#df-94448f1d-ead0-4cbf-8a80-e2b3c2e48c66 button.colab-df-convert');\n",
              "        buttonEl.style.display =\n",
              "          google.colab.kernel.accessAllowed ? 'block' : 'none';\n",
              "\n",
              "        async function convertToInteractive(key) {\n",
              "          const element = document.querySelector('#df-94448f1d-ead0-4cbf-8a80-e2b3c2e48c66');\n",
              "          const dataTable =\n",
              "            await google.colab.kernel.invokeFunction('convertToInteractive',\n",
              "                                                     [key], {});\n",
              "          if (!dataTable) return;\n",
              "\n",
              "          const docLinkHtml = 'Like what you see? Visit the ' +\n",
              "            '<a target=\"_blank\" href=https://colab.research.google.com/notebooks/data_table.ipynb>data table notebook</a>'\n",
              "            + ' to learn more about interactive tables.';\n",
              "          element.innerHTML = '';\n",
              "          dataTable['output_type'] = 'display_data';\n",
              "          await google.colab.output.renderOutput(dataTable, element);\n",
              "          const docLink = document.createElement('div');\n",
              "          docLink.innerHTML = docLinkHtml;\n",
              "          element.appendChild(docLink);\n",
              "        }\n",
              "      </script>\n",
              "    </div>\n",
              "  </div>\n",
              "  "
            ],
            "text/plain": [
              "            Adj Close                                          Close  \\\n",
              "                 AAPL        AMZN         IBM        MSFT       AAPL   \n",
              "Date                                                                   \n",
              "2018-09-04  55.001381  101.975502  114.454758  106.860054  57.090000   \n",
              "2018-09-05  54.642506   99.740997  115.224747  103.779854  56.717499   \n",
              "\n",
              "                                                     High              ...  \\\n",
              "                  AMZN         IBM        MSFT       AAPL        AMZN  ...   \n",
              "Date                                                                   ...   \n",
              "2018-09-04  101.975502  139.273422  111.709999  57.294998  102.525002  ...   \n",
              "2018-09-05   99.740997  140.210327  108.489998  57.417500  102.018997  ...   \n",
              "\n",
              "                   Low                   Open                          \\\n",
              "                   IBM        MSFT       AAPL        AMZN         IBM   \n",
              "Date                                                                    \n",
              "2018-09-04  138.441681  110.220001  57.102501  101.324997  139.560226   \n",
              "2018-09-05  138.671127  108.099998  57.247501  101.905502  138.804977   \n",
              "\n",
              "                           Volume                                \n",
              "                  MSFT       AAPL       AMZN      IBM      MSFT  \n",
              "Date                                                             \n",
              "2018-09-04  110.849998  109560400  114422000  3479205  22634600  \n",
              "2018-09-05  111.010002  133332000  164412000  3270319  32872400  \n",
              "\n",
              "[2 rows x 24 columns]"
            ]
          },
          "execution_count": 6,
          "metadata": {},
          "output_type": "execute_result"
        }
      ],
      "source": [
        "prices_df1.head(2)"
      ]
    },
    {
      "cell_type": "code",
      "execution_count": null,
      "metadata": {
        "colab": {
          "base_uri": "https://localhost:8080/"
        },
        "id": "2lZgXNBlT6NZ",
        "outputId": "7ace505c-0682-49a6-a057-27868353be5a"
      },
      "outputs": [
        {
          "name": "stdout",
          "output_type": "stream",
          "text": [
            "[*********************100%***********************]  4 of 4 completed\n"
          ]
        }
      ],
      "source": [
        "prices_df = yf.download(risky_assets, start_date, end_date, adjusted = True)"
      ]
    },
    {
      "cell_type": "code",
      "execution_count": null,
      "metadata": {
        "colab": {
          "base_uri": "https://localhost:8080/",
          "height": 352
        },
        "id": "rxY0-K4CVKgF",
        "outputId": "9742cec3-605b-4108-a147-699c9e3cf949"
      },
      "outputs": [
        {
          "data": {
            "text/html": [
              "\n",
              "  <div id=\"df-a694833d-f2e0-479c-a120-208f0276615f\">\n",
              "    <div class=\"colab-df-container\">\n",
              "      <div>\n",
              "<style scoped>\n",
              "    .dataframe tbody tr th:only-of-type {\n",
              "        vertical-align: middle;\n",
              "    }\n",
              "\n",
              "    .dataframe tbody tr th {\n",
              "        vertical-align: top;\n",
              "    }\n",
              "\n",
              "    .dataframe thead tr th {\n",
              "        text-align: left;\n",
              "    }\n",
              "\n",
              "    .dataframe thead tr:last-of-type th {\n",
              "        text-align: right;\n",
              "    }\n",
              "</style>\n",
              "<table border=\"1\" class=\"dataframe\">\n",
              "  <thead>\n",
              "    <tr>\n",
              "      <th></th>\n",
              "      <th colspan=\"4\" halign=\"left\">Adj Close</th>\n",
              "      <th colspan=\"4\" halign=\"left\">Close</th>\n",
              "      <th colspan=\"2\" halign=\"left\">High</th>\n",
              "      <th>...</th>\n",
              "      <th colspan=\"2\" halign=\"left\">Low</th>\n",
              "      <th colspan=\"4\" halign=\"left\">Open</th>\n",
              "      <th colspan=\"4\" halign=\"left\">Volume</th>\n",
              "    </tr>\n",
              "    <tr>\n",
              "      <th></th>\n",
              "      <th>AAPL</th>\n",
              "      <th>AMZN</th>\n",
              "      <th>IBM</th>\n",
              "      <th>MSFT</th>\n",
              "      <th>AAPL</th>\n",
              "      <th>AMZN</th>\n",
              "      <th>IBM</th>\n",
              "      <th>MSFT</th>\n",
              "      <th>AAPL</th>\n",
              "      <th>AMZN</th>\n",
              "      <th>...</th>\n",
              "      <th>IBM</th>\n",
              "      <th>MSFT</th>\n",
              "      <th>AAPL</th>\n",
              "      <th>AMZN</th>\n",
              "      <th>IBM</th>\n",
              "      <th>MSFT</th>\n",
              "      <th>AAPL</th>\n",
              "      <th>AMZN</th>\n",
              "      <th>IBM</th>\n",
              "      <th>MSFT</th>\n",
              "    </tr>\n",
              "    <tr>\n",
              "      <th>Date</th>\n",
              "      <th></th>\n",
              "      <th></th>\n",
              "      <th></th>\n",
              "      <th></th>\n",
              "      <th></th>\n",
              "      <th></th>\n",
              "      <th></th>\n",
              "      <th></th>\n",
              "      <th></th>\n",
              "      <th></th>\n",
              "      <th></th>\n",
              "      <th></th>\n",
              "      <th></th>\n",
              "      <th></th>\n",
              "      <th></th>\n",
              "      <th></th>\n",
              "      <th></th>\n",
              "      <th></th>\n",
              "      <th></th>\n",
              "      <th></th>\n",
              "      <th></th>\n",
              "    </tr>\n",
              "  </thead>\n",
              "  <tbody>\n",
              "    <tr>\n",
              "      <th>2018-09-04</th>\n",
              "      <td>55.001385</td>\n",
              "      <td>101.975502</td>\n",
              "      <td>114.454788</td>\n",
              "      <td>106.860054</td>\n",
              "      <td>57.090000</td>\n",
              "      <td>101.975502</td>\n",
              "      <td>139.273422</td>\n",
              "      <td>111.709999</td>\n",
              "      <td>57.294998</td>\n",
              "      <td>102.525002</td>\n",
              "      <td>...</td>\n",
              "      <td>138.441681</td>\n",
              "      <td>110.220001</td>\n",
              "      <td>57.102501</td>\n",
              "      <td>101.324997</td>\n",
              "      <td>139.560226</td>\n",
              "      <td>110.849998</td>\n",
              "      <td>109560400</td>\n",
              "      <td>114422000</td>\n",
              "      <td>3479205</td>\n",
              "      <td>22634600</td>\n",
              "    </tr>\n",
              "    <tr>\n",
              "      <th>2018-09-05</th>\n",
              "      <td>54.642509</td>\n",
              "      <td>99.740997</td>\n",
              "      <td>115.224731</td>\n",
              "      <td>103.779846</td>\n",
              "      <td>56.717499</td>\n",
              "      <td>99.740997</td>\n",
              "      <td>140.210327</td>\n",
              "      <td>108.489998</td>\n",
              "      <td>57.417500</td>\n",
              "      <td>102.018997</td>\n",
              "      <td>...</td>\n",
              "      <td>138.671127</td>\n",
              "      <td>108.099998</td>\n",
              "      <td>57.247501</td>\n",
              "      <td>101.905502</td>\n",
              "      <td>138.804977</td>\n",
              "      <td>111.010002</td>\n",
              "      <td>133332000</td>\n",
              "      <td>164412000</td>\n",
              "      <td>3270319</td>\n",
              "      <td>32872400</td>\n",
              "    </tr>\n",
              "    <tr>\n",
              "      <th>2018-09-06</th>\n",
              "      <td>53.734493</td>\n",
              "      <td>97.915497</td>\n",
              "      <td>115.012596</td>\n",
              "      <td>104.019005</td>\n",
              "      <td>55.775002</td>\n",
              "      <td>97.915497</td>\n",
              "      <td>139.952194</td>\n",
              "      <td>108.739998</td>\n",
              "      <td>56.837502</td>\n",
              "      <td>100.375000</td>\n",
              "      <td>...</td>\n",
              "      <td>139.139572</td>\n",
              "      <td>107.510002</td>\n",
              "      <td>56.557499</td>\n",
              "      <td>100.325500</td>\n",
              "      <td>140.420654</td>\n",
              "      <td>108.250000</td>\n",
              "      <td>137160000</td>\n",
              "      <td>149774000</td>\n",
              "      <td>4444245</td>\n",
              "      <td>23477600</td>\n",
              "    </tr>\n",
              "  </tbody>\n",
              "</table>\n",
              "<p>3 rows × 24 columns</p>\n",
              "</div>\n",
              "      <button class=\"colab-df-convert\" onclick=\"convertToInteractive('df-a694833d-f2e0-479c-a120-208f0276615f')\"\n",
              "              title=\"Convert this dataframe to an interactive table.\"\n",
              "              style=\"display:none;\">\n",
              "        \n",
              "  <svg xmlns=\"http://www.w3.org/2000/svg\" height=\"24px\"viewBox=\"0 0 24 24\"\n",
              "       width=\"24px\">\n",
              "    <path d=\"M0 0h24v24H0V0z\" fill=\"none\"/>\n",
              "    <path d=\"M18.56 5.44l.94 2.06.94-2.06 2.06-.94-2.06-.94-.94-2.06-.94 2.06-2.06.94zm-11 1L8.5 8.5l.94-2.06 2.06-.94-2.06-.94L8.5 2.5l-.94 2.06-2.06.94zm10 10l.94 2.06.94-2.06 2.06-.94-2.06-.94-.94-2.06-.94 2.06-2.06.94z\"/><path d=\"M17.41 7.96l-1.37-1.37c-.4-.4-.92-.59-1.43-.59-.52 0-1.04.2-1.43.59L10.3 9.45l-7.72 7.72c-.78.78-.78 2.05 0 2.83L4 21.41c.39.39.9.59 1.41.59.51 0 1.02-.2 1.41-.59l7.78-7.78 2.81-2.81c.8-.78.8-2.07 0-2.86zM5.41 20L4 18.59l7.72-7.72 1.47 1.35L5.41 20z\"/>\n",
              "  </svg>\n",
              "      </button>\n",
              "      \n",
              "  <style>\n",
              "    .colab-df-container {\n",
              "      display:flex;\n",
              "      flex-wrap:wrap;\n",
              "      gap: 12px;\n",
              "    }\n",
              "\n",
              "    .colab-df-convert {\n",
              "      background-color: #E8F0FE;\n",
              "      border: none;\n",
              "      border-radius: 50%;\n",
              "      cursor: pointer;\n",
              "      display: none;\n",
              "      fill: #1967D2;\n",
              "      height: 32px;\n",
              "      padding: 0 0 0 0;\n",
              "      width: 32px;\n",
              "    }\n",
              "\n",
              "    .colab-df-convert:hover {\n",
              "      background-color: #E2EBFA;\n",
              "      box-shadow: 0px 1px 2px rgba(60, 64, 67, 0.3), 0px 1px 3px 1px rgba(60, 64, 67, 0.15);\n",
              "      fill: #174EA6;\n",
              "    }\n",
              "\n",
              "    [theme=dark] .colab-df-convert {\n",
              "      background-color: #3B4455;\n",
              "      fill: #D2E3FC;\n",
              "    }\n",
              "\n",
              "    [theme=dark] .colab-df-convert:hover {\n",
              "      background-color: #434B5C;\n",
              "      box-shadow: 0px 1px 3px 1px rgba(0, 0, 0, 0.15);\n",
              "      filter: drop-shadow(0px 1px 2px rgba(0, 0, 0, 0.3));\n",
              "      fill: #FFFFFF;\n",
              "    }\n",
              "  </style>\n",
              "\n",
              "      <script>\n",
              "        const buttonEl =\n",
              "          document.querySelector('#df-a694833d-f2e0-479c-a120-208f0276615f button.colab-df-convert');\n",
              "        buttonEl.style.display =\n",
              "          google.colab.kernel.accessAllowed ? 'block' : 'none';\n",
              "\n",
              "        async function convertToInteractive(key) {\n",
              "          const element = document.querySelector('#df-a694833d-f2e0-479c-a120-208f0276615f');\n",
              "          const dataTable =\n",
              "            await google.colab.kernel.invokeFunction('convertToInteractive',\n",
              "                                                     [key], {});\n",
              "          if (!dataTable) return;\n",
              "\n",
              "          const docLinkHtml = 'Like what you see? Visit the ' +\n",
              "            '<a target=\"_blank\" href=https://colab.research.google.com/notebooks/data_table.ipynb>data table notebook</a>'\n",
              "            + ' to learn more about interactive tables.';\n",
              "          element.innerHTML = '';\n",
              "          dataTable['output_type'] = 'display_data';\n",
              "          await google.colab.output.renderOutput(dataTable, element);\n",
              "          const docLink = document.createElement('div');\n",
              "          docLink.innerHTML = docLinkHtml;\n",
              "          element.appendChild(docLink);\n",
              "        }\n",
              "      </script>\n",
              "    </div>\n",
              "  </div>\n",
              "  "
            ],
            "text/plain": [
              "            Adj Close                                          Close  \\\n",
              "                 AAPL        AMZN         IBM        MSFT       AAPL   \n",
              "Date                                                                   \n",
              "2018-09-04  55.001385  101.975502  114.454788  106.860054  57.090000   \n",
              "2018-09-05  54.642509   99.740997  115.224731  103.779846  56.717499   \n",
              "2018-09-06  53.734493   97.915497  115.012596  104.019005  55.775002   \n",
              "\n",
              "                                                     High              ...  \\\n",
              "                  AMZN         IBM        MSFT       AAPL        AMZN  ...   \n",
              "Date                                                                   ...   \n",
              "2018-09-04  101.975502  139.273422  111.709999  57.294998  102.525002  ...   \n",
              "2018-09-05   99.740997  140.210327  108.489998  57.417500  102.018997  ...   \n",
              "2018-09-06   97.915497  139.952194  108.739998  56.837502  100.375000  ...   \n",
              "\n",
              "                   Low                   Open                          \\\n",
              "                   IBM        MSFT       AAPL        AMZN         IBM   \n",
              "Date                                                                    \n",
              "2018-09-04  138.441681  110.220001  57.102501  101.324997  139.560226   \n",
              "2018-09-05  138.671127  108.099998  57.247501  101.905502  138.804977   \n",
              "2018-09-06  139.139572  107.510002  56.557499  100.325500  140.420654   \n",
              "\n",
              "                           Volume                                \n",
              "                  MSFT       AAPL       AMZN      IBM      MSFT  \n",
              "Date                                                             \n",
              "2018-09-04  110.849998  109560400  114422000  3479205  22634600  \n",
              "2018-09-05  111.010002  133332000  164412000  3270319  32872400  \n",
              "2018-09-06  108.250000  137160000  149774000  4444245  23477600  \n",
              "\n",
              "[3 rows x 24 columns]"
            ]
          },
          "execution_count": 8,
          "metadata": {},
          "output_type": "execute_result"
        }
      ],
      "source": [
        "prices_df.head(3)"
      ]
    },
    {
      "cell_type": "code",
      "execution_count": null,
      "metadata": {
        "colab": {
          "base_uri": "https://localhost:8080/",
          "height": 352
        },
        "id": "oUiEXOhuVMMH",
        "outputId": "b7450553-4804-4e8c-c61a-e92a9bc3364b"
      },
      "outputs": [
        {
          "data": {
            "text/html": [
              "\n",
              "  <div id=\"df-a8528775-f97f-4807-adeb-c64f9c2a144e\">\n",
              "    <div class=\"colab-df-container\">\n",
              "      <div>\n",
              "<style scoped>\n",
              "    .dataframe tbody tr th:only-of-type {\n",
              "        vertical-align: middle;\n",
              "    }\n",
              "\n",
              "    .dataframe tbody tr th {\n",
              "        vertical-align: top;\n",
              "    }\n",
              "\n",
              "    .dataframe thead tr th {\n",
              "        text-align: left;\n",
              "    }\n",
              "\n",
              "    .dataframe thead tr:last-of-type th {\n",
              "        text-align: right;\n",
              "    }\n",
              "</style>\n",
              "<table border=\"1\" class=\"dataframe\">\n",
              "  <thead>\n",
              "    <tr>\n",
              "      <th></th>\n",
              "      <th colspan=\"4\" halign=\"left\">Adj Close</th>\n",
              "      <th colspan=\"4\" halign=\"left\">Close</th>\n",
              "      <th colspan=\"2\" halign=\"left\">High</th>\n",
              "      <th>...</th>\n",
              "      <th colspan=\"2\" halign=\"left\">Low</th>\n",
              "      <th colspan=\"4\" halign=\"left\">Open</th>\n",
              "      <th colspan=\"4\" halign=\"left\">Volume</th>\n",
              "    </tr>\n",
              "    <tr>\n",
              "      <th></th>\n",
              "      <th>AAPL</th>\n",
              "      <th>AMZN</th>\n",
              "      <th>IBM</th>\n",
              "      <th>MSFT</th>\n",
              "      <th>AAPL</th>\n",
              "      <th>AMZN</th>\n",
              "      <th>IBM</th>\n",
              "      <th>MSFT</th>\n",
              "      <th>AAPL</th>\n",
              "      <th>AMZN</th>\n",
              "      <th>...</th>\n",
              "      <th>IBM</th>\n",
              "      <th>MSFT</th>\n",
              "      <th>AAPL</th>\n",
              "      <th>AMZN</th>\n",
              "      <th>IBM</th>\n",
              "      <th>MSFT</th>\n",
              "      <th>AAPL</th>\n",
              "      <th>AMZN</th>\n",
              "      <th>IBM</th>\n",
              "      <th>MSFT</th>\n",
              "    </tr>\n",
              "    <tr>\n",
              "      <th>Date</th>\n",
              "      <th></th>\n",
              "      <th></th>\n",
              "      <th></th>\n",
              "      <th></th>\n",
              "      <th></th>\n",
              "      <th></th>\n",
              "      <th></th>\n",
              "      <th></th>\n",
              "      <th></th>\n",
              "      <th></th>\n",
              "      <th></th>\n",
              "      <th></th>\n",
              "      <th></th>\n",
              "      <th></th>\n",
              "      <th></th>\n",
              "      <th></th>\n",
              "      <th></th>\n",
              "      <th></th>\n",
              "      <th></th>\n",
              "      <th></th>\n",
              "      <th></th>\n",
              "    </tr>\n",
              "  </thead>\n",
              "  <tbody>\n",
              "    <tr>\n",
              "      <th>2022-08-30</th>\n",
              "      <td>158.910004</td>\n",
              "      <td>128.729996</td>\n",
              "      <td>129.580002</td>\n",
              "      <td>262.970001</td>\n",
              "      <td>158.910004</td>\n",
              "      <td>128.729996</td>\n",
              "      <td>129.580002</td>\n",
              "      <td>262.970001</td>\n",
              "      <td>162.559998</td>\n",
              "      <td>132.070007</td>\n",
              "      <td>...</td>\n",
              "      <td>129.289993</td>\n",
              "      <td>260.660004</td>\n",
              "      <td>162.130005</td>\n",
              "      <td>131.250000</td>\n",
              "      <td>130.559998</td>\n",
              "      <td>266.670013</td>\n",
              "      <td>77906200</td>\n",
              "      <td>49203000</td>\n",
              "      <td>2407900</td>\n",
              "      <td>22767100</td>\n",
              "    </tr>\n",
              "    <tr>\n",
              "      <th>2022-08-31</th>\n",
              "      <td>157.220001</td>\n",
              "      <td>126.769997</td>\n",
              "      <td>128.449997</td>\n",
              "      <td>261.470001</td>\n",
              "      <td>157.220001</td>\n",
              "      <td>126.769997</td>\n",
              "      <td>128.449997</td>\n",
              "      <td>261.470001</td>\n",
              "      <td>160.580002</td>\n",
              "      <td>130.589996</td>\n",
              "      <td>...</td>\n",
              "      <td>128.399994</td>\n",
              "      <td>261.329987</td>\n",
              "      <td>160.309998</td>\n",
              "      <td>129.449997</td>\n",
              "      <td>129.919998</td>\n",
              "      <td>265.390015</td>\n",
              "      <td>87991100</td>\n",
              "      <td>53648700</td>\n",
              "      <td>3490400</td>\n",
              "      <td>24791800</td>\n",
              "    </tr>\n",
              "    <tr>\n",
              "      <th>2022-09-01</th>\n",
              "      <td>157.960007</td>\n",
              "      <td>127.820000</td>\n",
              "      <td>129.660004</td>\n",
              "      <td>260.399994</td>\n",
              "      <td>157.960007</td>\n",
              "      <td>127.820000</td>\n",
              "      <td>129.660004</td>\n",
              "      <td>260.399994</td>\n",
              "      <td>158.419998</td>\n",
              "      <td>128.020004</td>\n",
              "      <td>...</td>\n",
              "      <td>127.739998</td>\n",
              "      <td>255.410004</td>\n",
              "      <td>156.639999</td>\n",
              "      <td>126.000000</td>\n",
              "      <td>128.399994</td>\n",
              "      <td>258.869995</td>\n",
              "      <td>74229900</td>\n",
              "      <td>56636100</td>\n",
              "      <td>3396200</td>\n",
              "      <td>23263400</td>\n",
              "    </tr>\n",
              "  </tbody>\n",
              "</table>\n",
              "<p>3 rows × 24 columns</p>\n",
              "</div>\n",
              "      <button class=\"colab-df-convert\" onclick=\"convertToInteractive('df-a8528775-f97f-4807-adeb-c64f9c2a144e')\"\n",
              "              title=\"Convert this dataframe to an interactive table.\"\n",
              "              style=\"display:none;\">\n",
              "        \n",
              "  <svg xmlns=\"http://www.w3.org/2000/svg\" height=\"24px\"viewBox=\"0 0 24 24\"\n",
              "       width=\"24px\">\n",
              "    <path d=\"M0 0h24v24H0V0z\" fill=\"none\"/>\n",
              "    <path d=\"M18.56 5.44l.94 2.06.94-2.06 2.06-.94-2.06-.94-.94-2.06-.94 2.06-2.06.94zm-11 1L8.5 8.5l.94-2.06 2.06-.94-2.06-.94L8.5 2.5l-.94 2.06-2.06.94zm10 10l.94 2.06.94-2.06 2.06-.94-2.06-.94-.94-2.06-.94 2.06-2.06.94z\"/><path d=\"M17.41 7.96l-1.37-1.37c-.4-.4-.92-.59-1.43-.59-.52 0-1.04.2-1.43.59L10.3 9.45l-7.72 7.72c-.78.78-.78 2.05 0 2.83L4 21.41c.39.39.9.59 1.41.59.51 0 1.02-.2 1.41-.59l7.78-7.78 2.81-2.81c.8-.78.8-2.07 0-2.86zM5.41 20L4 18.59l7.72-7.72 1.47 1.35L5.41 20z\"/>\n",
              "  </svg>\n",
              "      </button>\n",
              "      \n",
              "  <style>\n",
              "    .colab-df-container {\n",
              "      display:flex;\n",
              "      flex-wrap:wrap;\n",
              "      gap: 12px;\n",
              "    }\n",
              "\n",
              "    .colab-df-convert {\n",
              "      background-color: #E8F0FE;\n",
              "      border: none;\n",
              "      border-radius: 50%;\n",
              "      cursor: pointer;\n",
              "      display: none;\n",
              "      fill: #1967D2;\n",
              "      height: 32px;\n",
              "      padding: 0 0 0 0;\n",
              "      width: 32px;\n",
              "    }\n",
              "\n",
              "    .colab-df-convert:hover {\n",
              "      background-color: #E2EBFA;\n",
              "      box-shadow: 0px 1px 2px rgba(60, 64, 67, 0.3), 0px 1px 3px 1px rgba(60, 64, 67, 0.15);\n",
              "      fill: #174EA6;\n",
              "    }\n",
              "\n",
              "    [theme=dark] .colab-df-convert {\n",
              "      background-color: #3B4455;\n",
              "      fill: #D2E3FC;\n",
              "    }\n",
              "\n",
              "    [theme=dark] .colab-df-convert:hover {\n",
              "      background-color: #434B5C;\n",
              "      box-shadow: 0px 1px 3px 1px rgba(0, 0, 0, 0.15);\n",
              "      filter: drop-shadow(0px 1px 2px rgba(0, 0, 0, 0.3));\n",
              "      fill: #FFFFFF;\n",
              "    }\n",
              "  </style>\n",
              "\n",
              "      <script>\n",
              "        const buttonEl =\n",
              "          document.querySelector('#df-a8528775-f97f-4807-adeb-c64f9c2a144e button.colab-df-convert');\n",
              "        buttonEl.style.display =\n",
              "          google.colab.kernel.accessAllowed ? 'block' : 'none';\n",
              "\n",
              "        async function convertToInteractive(key) {\n",
              "          const element = document.querySelector('#df-a8528775-f97f-4807-adeb-c64f9c2a144e');\n",
              "          const dataTable =\n",
              "            await google.colab.kernel.invokeFunction('convertToInteractive',\n",
              "                                                     [key], {});\n",
              "          if (!dataTable) return;\n",
              "\n",
              "          const docLinkHtml = 'Like what you see? Visit the ' +\n",
              "            '<a target=\"_blank\" href=https://colab.research.google.com/notebooks/data_table.ipynb>data table notebook</a>'\n",
              "            + ' to learn more about interactive tables.';\n",
              "          element.innerHTML = '';\n",
              "          dataTable['output_type'] = 'display_data';\n",
              "          await google.colab.output.renderOutput(dataTable, element);\n",
              "          const docLink = document.createElement('div');\n",
              "          docLink.innerHTML = docLinkHtml;\n",
              "          element.appendChild(docLink);\n",
              "        }\n",
              "      </script>\n",
              "    </div>\n",
              "  </div>\n",
              "  "
            ],
            "text/plain": [
              "             Adj Close                                           Close  \\\n",
              "                  AAPL        AMZN         IBM        MSFT        AAPL   \n",
              "Date                                                                     \n",
              "2022-08-30  158.910004  128.729996  129.580002  262.970001  158.910004   \n",
              "2022-08-31  157.220001  126.769997  128.449997  261.470001  157.220001   \n",
              "2022-09-01  157.960007  127.820000  129.660004  260.399994  157.960007   \n",
              "\n",
              "                                                      High              ...  \\\n",
              "                  AMZN         IBM        MSFT        AAPL        AMZN  ...   \n",
              "Date                                                                    ...   \n",
              "2022-08-30  128.729996  129.580002  262.970001  162.559998  132.070007  ...   \n",
              "2022-08-31  126.769997  128.449997  261.470001  160.580002  130.589996  ...   \n",
              "2022-09-01  127.820000  129.660004  260.399994  158.419998  128.020004  ...   \n",
              "\n",
              "                   Low                    Open                          \\\n",
              "                   IBM        MSFT        AAPL        AMZN         IBM   \n",
              "Date                                                                     \n",
              "2022-08-30  129.289993  260.660004  162.130005  131.250000  130.559998   \n",
              "2022-08-31  128.399994  261.329987  160.309998  129.449997  129.919998   \n",
              "2022-09-01  127.739998  255.410004  156.639999  126.000000  128.399994   \n",
              "\n",
              "                          Volume                               \n",
              "                  MSFT      AAPL      AMZN      IBM      MSFT  \n",
              "Date                                                           \n",
              "2022-08-30  266.670013  77906200  49203000  2407900  22767100  \n",
              "2022-08-31  265.390015  87991100  53648700  3490400  24791800  \n",
              "2022-09-01  258.869995  74229900  56636100  3396200  23263400  \n",
              "\n",
              "[3 rows x 24 columns]"
            ]
          },
          "execution_count": 9,
          "metadata": {},
          "output_type": "execute_result"
        }
      ],
      "source": [
        "prices_df.tail(3)"
      ]
    },
    {
      "cell_type": "markdown",
      "metadata": {
        "id": "toQ2IE7tXbSi"
      },
      "source": [
        "**Calculate the Daily Asset Returns of Individual Stocks**"
      ]
    },
    {
      "cell_type": "code",
      "execution_count": null,
      "metadata": {
        "colab": {
          "base_uri": "https://localhost:8080/",
          "height": 175
        },
        "id": "uXxNkyhnXiRB",
        "outputId": "4c722800-5993-4c5a-e43b-4f60357ab94a"
      },
      "outputs": [
        {
          "data": {
            "text/html": [
              "\n",
              "  <div id=\"df-ce045057-2503-46bf-89f4-6dd089dbacaf\">\n",
              "    <div class=\"colab-df-container\">\n",
              "      <div>\n",
              "<style scoped>\n",
              "    .dataframe tbody tr th:only-of-type {\n",
              "        vertical-align: middle;\n",
              "    }\n",
              "\n",
              "    .dataframe tbody tr th {\n",
              "        vertical-align: top;\n",
              "    }\n",
              "\n",
              "    .dataframe thead th {\n",
              "        text-align: right;\n",
              "    }\n",
              "</style>\n",
              "<table border=\"1\" class=\"dataframe\">\n",
              "  <thead>\n",
              "    <tr style=\"text-align: right;\">\n",
              "      <th></th>\n",
              "      <th>AAPL</th>\n",
              "      <th>AMZN</th>\n",
              "      <th>IBM</th>\n",
              "      <th>MSFT</th>\n",
              "    </tr>\n",
              "    <tr>\n",
              "      <th>Date</th>\n",
              "      <th></th>\n",
              "      <th></th>\n",
              "      <th></th>\n",
              "      <th></th>\n",
              "    </tr>\n",
              "  </thead>\n",
              "  <tbody>\n",
              "    <tr>\n",
              "      <th>2018-09-05</th>\n",
              "      <td>-0.006525</td>\n",
              "      <td>-0.021912</td>\n",
              "      <td>0.006727</td>\n",
              "      <td>-0.028825</td>\n",
              "    </tr>\n",
              "    <tr>\n",
              "      <th>2018-09-06</th>\n",
              "      <td>-0.016617</td>\n",
              "      <td>-0.018302</td>\n",
              "      <td>-0.001841</td>\n",
              "      <td>0.002304</td>\n",
              "    </tr>\n",
              "    <tr>\n",
              "      <th>2018-09-07</th>\n",
              "      <td>-0.008068</td>\n",
              "      <td>-0.003186</td>\n",
              "      <td>-0.006421</td>\n",
              "      <td>-0.004874</td>\n",
              "    </tr>\n",
              "  </tbody>\n",
              "</table>\n",
              "</div>\n",
              "      <button class=\"colab-df-convert\" onclick=\"convertToInteractive('df-ce045057-2503-46bf-89f4-6dd089dbacaf')\"\n",
              "              title=\"Convert this dataframe to an interactive table.\"\n",
              "              style=\"display:none;\">\n",
              "        \n",
              "  <svg xmlns=\"http://www.w3.org/2000/svg\" height=\"24px\"viewBox=\"0 0 24 24\"\n",
              "       width=\"24px\">\n",
              "    <path d=\"M0 0h24v24H0V0z\" fill=\"none\"/>\n",
              "    <path d=\"M18.56 5.44l.94 2.06.94-2.06 2.06-.94-2.06-.94-.94-2.06-.94 2.06-2.06.94zm-11 1L8.5 8.5l.94-2.06 2.06-.94-2.06-.94L8.5 2.5l-.94 2.06-2.06.94zm10 10l.94 2.06.94-2.06 2.06-.94-2.06-.94-.94-2.06-.94 2.06-2.06.94z\"/><path d=\"M17.41 7.96l-1.37-1.37c-.4-.4-.92-.59-1.43-.59-.52 0-1.04.2-1.43.59L10.3 9.45l-7.72 7.72c-.78.78-.78 2.05 0 2.83L4 21.41c.39.39.9.59 1.41.59.51 0 1.02-.2 1.41-.59l7.78-7.78 2.81-2.81c.8-.78.8-2.07 0-2.86zM5.41 20L4 18.59l7.72-7.72 1.47 1.35L5.41 20z\"/>\n",
              "  </svg>\n",
              "      </button>\n",
              "      \n",
              "  <style>\n",
              "    .colab-df-container {\n",
              "      display:flex;\n",
              "      flex-wrap:wrap;\n",
              "      gap: 12px;\n",
              "    }\n",
              "\n",
              "    .colab-df-convert {\n",
              "      background-color: #E8F0FE;\n",
              "      border: none;\n",
              "      border-radius: 50%;\n",
              "      cursor: pointer;\n",
              "      display: none;\n",
              "      fill: #1967D2;\n",
              "      height: 32px;\n",
              "      padding: 0 0 0 0;\n",
              "      width: 32px;\n",
              "    }\n",
              "\n",
              "    .colab-df-convert:hover {\n",
              "      background-color: #E2EBFA;\n",
              "      box-shadow: 0px 1px 2px rgba(60, 64, 67, 0.3), 0px 1px 3px 1px rgba(60, 64, 67, 0.15);\n",
              "      fill: #174EA6;\n",
              "    }\n",
              "\n",
              "    [theme=dark] .colab-df-convert {\n",
              "      background-color: #3B4455;\n",
              "      fill: #D2E3FC;\n",
              "    }\n",
              "\n",
              "    [theme=dark] .colab-df-convert:hover {\n",
              "      background-color: #434B5C;\n",
              "      box-shadow: 0px 1px 3px 1px rgba(0, 0, 0, 0.15);\n",
              "      filter: drop-shadow(0px 1px 2px rgba(0, 0, 0, 0.3));\n",
              "      fill: #FFFFFF;\n",
              "    }\n",
              "  </style>\n",
              "\n",
              "      <script>\n",
              "        const buttonEl =\n",
              "          document.querySelector('#df-ce045057-2503-46bf-89f4-6dd089dbacaf button.colab-df-convert');\n",
              "        buttonEl.style.display =\n",
              "          google.colab.kernel.accessAllowed ? 'block' : 'none';\n",
              "\n",
              "        async function convertToInteractive(key) {\n",
              "          const element = document.querySelector('#df-ce045057-2503-46bf-89f4-6dd089dbacaf');\n",
              "          const dataTable =\n",
              "            await google.colab.kernel.invokeFunction('convertToInteractive',\n",
              "                                                     [key], {});\n",
              "          if (!dataTable) return;\n",
              "\n",
              "          const docLinkHtml = 'Like what you see? Visit the ' +\n",
              "            '<a target=\"_blank\" href=https://colab.research.google.com/notebooks/data_table.ipynb>data table notebook</a>'\n",
              "            + ' to learn more about interactive tables.';\n",
              "          element.innerHTML = '';\n",
              "          dataTable['output_type'] = 'display_data';\n",
              "          await google.colab.output.renderOutput(dataTable, element);\n",
              "          const docLink = document.createElement('div');\n",
              "          docLink.innerHTML = docLinkHtml;\n",
              "          element.appendChild(docLink);\n",
              "        }\n",
              "      </script>\n",
              "    </div>\n",
              "  </div>\n",
              "  "
            ],
            "text/plain": [
              "                AAPL      AMZN       IBM      MSFT\n",
              "Date                                              \n",
              "2018-09-05 -0.006525 -0.021912  0.006727 -0.028825\n",
              "2018-09-06 -0.016617 -0.018302 -0.001841  0.002304\n",
              "2018-09-07 -0.008068 -0.003186 -0.006421 -0.004874"
            ]
          },
          "execution_count": 10,
          "metadata": {},
          "output_type": "execute_result"
        }
      ],
      "source": [
        "returns = prices_df[\"Adj Close\"].pct_change().dropna()\n",
        "returns.head(3)"
      ]
    },
    {
      "cell_type": "markdown",
      "metadata": {
        "id": "fsCrJKbtYT8s"
      },
      "source": [
        "**Define Weights**"
      ]
    },
    {
      "cell_type": "code",
      "execution_count": null,
      "metadata": {
        "colab": {
          "base_uri": "https://localhost:8080/"
        },
        "id": "t02TL8pSYt3l",
        "outputId": "3da48172-002c-4513-b535-bcde5977c27b"
      },
      "outputs": [
        {
          "data": {
            "text/plain": [
              "4"
            ]
          },
          "execution_count": 19,
          "metadata": {},
          "output_type": "execute_result"
        }
      ],
      "source": [
        "n_assets"
      ]
    },
    {
      "cell_type": "code",
      "execution_count": null,
      "metadata": {
        "id": "R77DpsngYWyX"
      },
      "outputs": [],
      "source": [
        "portfolio_weights = n_assets * [1/n_assets]"
      ]
    },
    {
      "cell_type": "code",
      "execution_count": null,
      "metadata": {
        "colab": {
          "base_uri": "https://localhost:8080/"
        },
        "id": "KpH3N-PsYxnC",
        "outputId": "6b7446c3-3f61-411f-d536-2a35cac0d549"
      },
      "outputs": [
        {
          "data": {
            "text/plain": [
              "[0.25, 0.25, 0.25, 0.25]"
            ]
          },
          "execution_count": 12,
          "metadata": {},
          "output_type": "execute_result"
        }
      ],
      "source": [
        "portfolio_weights"
      ]
    },
    {
      "cell_type": "markdown",
      "metadata": {
        "id": "wHSdQ9rQY57F"
      },
      "source": [
        "**Calculate Portfolio Return**"
      ]
    },
    {
      "cell_type": "code",
      "execution_count": null,
      "metadata": {
        "id": "PxANhoVMYyCR"
      },
      "outputs": [],
      "source": [
        "portfolio_return = pd.Series(np.dot(portfolio_weights, returns.T), index = returns.index)"
      ]
    },
    {
      "cell_type": "code",
      "execution_count": null,
      "metadata": {
        "colab": {
          "base_uri": "https://localhost:8080/"
        },
        "id": "D_CFE0fIZk0X",
        "outputId": "33ae6c59-255a-4515-fca2-80ffc576fdb3"
      },
      "outputs": [
        {
          "data": {
            "text/plain": [
              "Date\n",
              "2018-09-05   -0.012634\n",
              "2018-09-06   -0.008614\n",
              "2018-09-07   -0.005637\n",
              "2018-09-10   -0.001981\n",
              "2018-09-11    0.018221\n",
              "                ...   \n",
              "2022-08-26   -0.037681\n",
              "2022-08-29   -0.008059\n",
              "2022-08-30   -0.009399\n",
              "2022-08-31   -0.010071\n",
              "2022-09-01    0.004579\n",
              "Length: 1006, dtype: float64"
            ]
          },
          "execution_count": 14,
          "metadata": {},
          "output_type": "execute_result"
        }
      ],
      "source": [
        "portfolio_return"
      ]
    },
    {
      "cell_type": "markdown",
      "metadata": {
        "id": "2XqBRLsZZ6jx"
      },
      "source": [
        "**Create the Tear Sheet of our Investment**"
      ]
    },
    {
      "cell_type": "code",
      "execution_count": null,
      "metadata": {
        "colab": {
          "base_uri": "https://localhost:8080/",
          "height": 1000
        },
        "id": "6chnMNPhZlen",
        "outputId": "274c01dd-68bd-4bf6-8daf-d56ae2f2a58b"
      },
      "outputs": [
        {
          "data": {
            "text/html": [
              "<table border=\"1\" class=\"dataframe\">\n",
              "  <thead>\n",
              "    <tr style=\"text-align: right;\"><th>Start date</th><td colspan=2>2018-09-05</td></tr>\n",
              "    <tr style=\"text-align: right;\"><th>End date</th><td colspan=2>2022-09-01</td></tr>\n",
              "    <tr style=\"text-align: right;\"><th>Total months</th><td colspan=2>47</td></tr>\n",
              "    <tr style=\"text-align: right;\">\n",
              "      <th></th>\n",
              "      <th>Backtest</th>\n",
              "    </tr>\n",
              "  </thead>\n",
              "  <tbody>\n",
              "    <tr>\n",
              "      <th>Annual return</th>\n",
              "      <td>17.5%</td>\n",
              "    </tr>\n",
              "    <tr>\n",
              "      <th>Cumulative returns</th>\n",
              "      <td>90.1%</td>\n",
              "    </tr>\n",
              "    <tr>\n",
              "      <th>Annual volatility</th>\n",
              "      <td>27.0%</td>\n",
              "    </tr>\n",
              "    <tr>\n",
              "      <th>Sharpe ratio</th>\n",
              "      <td>0.73</td>\n",
              "    </tr>\n",
              "    <tr>\n",
              "      <th>Calmar ratio</th>\n",
              "      <td>0.61</td>\n",
              "    </tr>\n",
              "    <tr>\n",
              "      <th>Stability</th>\n",
              "      <td>0.90</td>\n",
              "    </tr>\n",
              "    <tr>\n",
              "      <th>Max drawdown</th>\n",
              "      <td>-28.7%</td>\n",
              "    </tr>\n",
              "    <tr>\n",
              "      <th>Omega ratio</th>\n",
              "      <td>1.14</td>\n",
              "    </tr>\n",
              "    <tr>\n",
              "      <th>Sortino ratio</th>\n",
              "      <td>1.03</td>\n",
              "    </tr>\n",
              "    <tr>\n",
              "      <th>Skew</th>\n",
              "      <td>-0.31</td>\n",
              "    </tr>\n",
              "    <tr>\n",
              "      <th>Kurtosis</th>\n",
              "      <td>5.22</td>\n",
              "    </tr>\n",
              "    <tr>\n",
              "      <th>Tail ratio</th>\n",
              "      <td>0.95</td>\n",
              "    </tr>\n",
              "    <tr>\n",
              "      <th>Daily value at risk</th>\n",
              "      <td>-3.3%</td>\n",
              "    </tr>\n",
              "  </tbody>\n",
              "</table>"
            ],
            "text/plain": [
              "<IPython.core.display.HTML object>"
            ]
          },
          "metadata": {},
          "output_type": "display_data"
        },
        {
          "data": {
            "image/png": "[encoded data removed]",
            "text/plain": [
              "<Figure size 1008x1728 with 3 Axes>"
            ]
          },
          "metadata": {},
          "output_type": "display_data"
        }
      ],
      "source": [
        "pf.create_simple_tear_sheet(portfolio_return)"
      ]
    },
    {
      "cell_type": "markdown",
      "metadata": {
        "id": "GhnVkkn4cFZA"
      },
      "source": [
        "**Create Portfolio and Effecient Frontier using Random Simulation**"
      ]
    },
    {
      "cell_type": "markdown",
      "metadata": {
        "id": "-eQEBzFUchbC"
      },
      "source": [
        "**Set up the Parameters**"
      ]
    },
    {
      "cell_type": "code",
      "execution_count": null,
      "metadata": {
        "id": "MR4agDQVcdKr"
      },
      "outputs": [],
      "source": [
        "n_portfolios = 10**5\n",
        "n_days = 252\n",
        "risky_assets = [\"AAPL\", \"IBM\", \"MSFT\", \"AMZN\", \"META\"]\n",
        "risky_assets.sort()\n",
        "start_date = \"2018-09-02\"\n",
        "end_date = \"2022-09-02\"\n",
        "n_assets = len(risky_assets)"
      ]
    },
    {
      "cell_type": "code",
      "execution_count": null,
      "metadata": {
        "colab": {
          "base_uri": "https://localhost:8080/"
        },
        "id": "twAXAxSedV3Z",
        "outputId": "97a37ea2-b384-4543-ab1a-d56518377468"
      },
      "outputs": [
        {
          "name": "stdout",
          "output_type": "stream",
          "text": [
            "[*********************100%***********************]  5 of 5 completed\n"
          ]
        }
      ],
      "source": [
        "prices_df = yf.download(risky_assets, start_date, end_date, adjusted = True)"
      ]
    },
    {
      "cell_type": "code",
      "execution_count": null,
      "metadata": {
        "colab": {
          "base_uri": "https://localhost:8080/",
          "height": 449
        },
        "id": "-Ej8LM0YdbOZ",
        "outputId": "426b4e8e-a7f6-43c5-bd13-8a14504b9e32"
      },
      "outputs": [
        {
          "data": {
            "text/html": [
              "\n",
              "  <div id=\"df-e8c0cb04-829e-463d-989d-4effd733b9a9\">\n",
              "    <div class=\"colab-df-container\">\n",
              "      <div>\n",
              "<style scoped>\n",
              "    .dataframe tbody tr th:only-of-type {\n",
              "        vertical-align: middle;\n",
              "    }\n",
              "\n",
              "    .dataframe tbody tr th {\n",
              "        vertical-align: top;\n",
              "    }\n",
              "\n",
              "    .dataframe thead tr th {\n",
              "        text-align: left;\n",
              "    }\n",
              "\n",
              "    .dataframe thead tr:last-of-type th {\n",
              "        text-align: right;\n",
              "    }\n",
              "</style>\n",
              "<table border=\"1\" class=\"dataframe\">\n",
              "  <thead>\n",
              "    <tr>\n",
              "      <th></th>\n",
              "      <th colspan=\"5\" halign=\"left\">Adj Close</th>\n",
              "      <th colspan=\"5\" halign=\"left\">Close</th>\n",
              "      <th>...</th>\n",
              "      <th colspan=\"5\" halign=\"left\">Open</th>\n",
              "      <th colspan=\"5\" halign=\"left\">Volume</th>\n",
              "    </tr>\n",
              "    <tr>\n",
              "      <th></th>\n",
              "      <th>AAPL</th>\n",
              "      <th>AMZN</th>\n",
              "      <th>IBM</th>\n",
              "      <th>META</th>\n",
              "      <th>MSFT</th>\n",
              "      <th>AAPL</th>\n",
              "      <th>AMZN</th>\n",
              "      <th>IBM</th>\n",
              "      <th>META</th>\n",
              "      <th>MSFT</th>\n",
              "      <th>...</th>\n",
              "      <th>AAPL</th>\n",
              "      <th>AMZN</th>\n",
              "      <th>IBM</th>\n",
              "      <th>META</th>\n",
              "      <th>MSFT</th>\n",
              "      <th>AAPL</th>\n",
              "      <th>AMZN</th>\n",
              "      <th>IBM</th>\n",
              "      <th>META</th>\n",
              "      <th>MSFT</th>\n",
              "    </tr>\n",
              "    <tr>\n",
              "      <th>Date</th>\n",
              "      <th></th>\n",
              "      <th></th>\n",
              "      <th></th>\n",
              "      <th></th>\n",
              "      <th></th>\n",
              "      <th></th>\n",
              "      <th></th>\n",
              "      <th></th>\n",
              "      <th></th>\n",
              "      <th></th>\n",
              "      <th></th>\n",
              "      <th></th>\n",
              "      <th></th>\n",
              "      <th></th>\n",
              "      <th></th>\n",
              "      <th></th>\n",
              "      <th></th>\n",
              "      <th></th>\n",
              "      <th></th>\n",
              "      <th></th>\n",
              "      <th></th>\n",
              "    </tr>\n",
              "  </thead>\n",
              "  <tbody>\n",
              "    <tr>\n",
              "      <th>2018-09-04</th>\n",
              "      <td>55.001377</td>\n",
              "      <td>101.975502</td>\n",
              "      <td>114.454788</td>\n",
              "      <td>171.160004</td>\n",
              "      <td>106.860054</td>\n",
              "      <td>57.090000</td>\n",
              "      <td>101.975502</td>\n",
              "      <td>139.273422</td>\n",
              "      <td>171.160004</td>\n",
              "      <td>111.709999</td>\n",
              "      <td>...</td>\n",
              "      <td>57.102501</td>\n",
              "      <td>101.324997</td>\n",
              "      <td>139.560226</td>\n",
              "      <td>173.500000</td>\n",
              "      <td>110.849998</td>\n",
              "      <td>109560400</td>\n",
              "      <td>114422000</td>\n",
              "      <td>3479205</td>\n",
              "      <td>29809000</td>\n",
              "      <td>22634600</td>\n",
              "    </tr>\n",
              "    <tr>\n",
              "      <th>2018-09-05</th>\n",
              "      <td>54.642506</td>\n",
              "      <td>99.740997</td>\n",
              "      <td>115.224739</td>\n",
              "      <td>167.179993</td>\n",
              "      <td>103.779854</td>\n",
              "      <td>56.717499</td>\n",
              "      <td>99.740997</td>\n",
              "      <td>140.210327</td>\n",
              "      <td>167.179993</td>\n",
              "      <td>108.489998</td>\n",
              "      <td>...</td>\n",
              "      <td>57.247501</td>\n",
              "      <td>101.905502</td>\n",
              "      <td>138.804977</td>\n",
              "      <td>169.490005</td>\n",
              "      <td>111.010002</td>\n",
              "      <td>133332000</td>\n",
              "      <td>164412000</td>\n",
              "      <td>3270319</td>\n",
              "      <td>31226700</td>\n",
              "      <td>32872400</td>\n",
              "    </tr>\n",
              "    <tr>\n",
              "      <th>2018-09-06</th>\n",
              "      <td>53.734489</td>\n",
              "      <td>97.915497</td>\n",
              "      <td>115.012619</td>\n",
              "      <td>162.529999</td>\n",
              "      <td>104.018990</td>\n",
              "      <td>55.775002</td>\n",
              "      <td>97.915497</td>\n",
              "      <td>139.952194</td>\n",
              "      <td>162.529999</td>\n",
              "      <td>108.739998</td>\n",
              "      <td>...</td>\n",
              "      <td>56.557499</td>\n",
              "      <td>100.325500</td>\n",
              "      <td>140.420654</td>\n",
              "      <td>166.979996</td>\n",
              "      <td>108.250000</td>\n",
              "      <td>137160000</td>\n",
              "      <td>149774000</td>\n",
              "      <td>4444245</td>\n",
              "      <td>41514800</td>\n",
              "      <td>23477600</td>\n",
              "    </tr>\n",
              "    <tr>\n",
              "      <th>2018-09-07</th>\n",
              "      <td>53.300961</td>\n",
              "      <td>97.603500</td>\n",
              "      <td>114.274101</td>\n",
              "      <td>163.039993</td>\n",
              "      <td>103.512009</td>\n",
              "      <td>55.325001</td>\n",
              "      <td>97.603500</td>\n",
              "      <td>139.053543</td>\n",
              "      <td>163.039993</td>\n",
              "      <td>108.209999</td>\n",
              "      <td>...</td>\n",
              "      <td>55.462502</td>\n",
              "      <td>96.935501</td>\n",
              "      <td>139.521988</td>\n",
              "      <td>160.309998</td>\n",
              "      <td>108.230003</td>\n",
              "      <td>150479200</td>\n",
              "      <td>97852000</td>\n",
              "      <td>4908983</td>\n",
              "      <td>24300600</td>\n",
              "      <td>22498600</td>\n",
              "    </tr>\n",
              "    <tr>\n",
              "      <th>2018-09-10</th>\n",
              "      <td>52.585617</td>\n",
              "      <td>96.950500</td>\n",
              "      <td>114.431213</td>\n",
              "      <td>164.179993</td>\n",
              "      <td>104.631226</td>\n",
              "      <td>54.582500</td>\n",
              "      <td>96.950500</td>\n",
              "      <td>139.244736</td>\n",
              "      <td>164.179993</td>\n",
              "      <td>109.379997</td>\n",
              "      <td>...</td>\n",
              "      <td>55.237499</td>\n",
              "      <td>98.550003</td>\n",
              "      <td>140.152969</td>\n",
              "      <td>163.509995</td>\n",
              "      <td>108.839996</td>\n",
              "      <td>158066000</td>\n",
              "      <td>90896000</td>\n",
              "      <td>3784742</td>\n",
              "      <td>20197700</td>\n",
              "      <td>20727900</td>\n",
              "    </tr>\n",
              "  </tbody>\n",
              "</table>\n",
              "<p>5 rows × 30 columns</p>\n",
              "</div>\n",
              "      <button class=\"colab-df-convert\" onclick=\"convertToInteractive('df-e8c0cb04-829e-463d-989d-4effd733b9a9')\"\n",
              "              title=\"Convert this dataframe to an interactive table.\"\n",
              "              style=\"display:none;\">\n",
              "        \n",
              "  <svg xmlns=\"http://www.w3.org/2000/svg\" height=\"24px\"viewBox=\"0 0 24 24\"\n",
              "       width=\"24px\">\n",
              "    <path d=\"M0 0h24v24H0V0z\" fill=\"none\"/>\n",
              "    <path d=\"M18.56 5.44l.94 2.06.94-2.06 2.06-.94-2.06-.94-.94-2.06-.94 2.06-2.06.94zm-11 1L8.5 8.5l.94-2.06 2.06-.94-2.06-.94L8.5 2.5l-.94 2.06-2.06.94zm10 10l.94 2.06.94-2.06 2.06-.94-2.06-.94-.94-2.06-.94 2.06-2.06.94z\"/><path d=\"M17.41 7.96l-1.37-1.37c-.4-.4-.92-.59-1.43-.59-.52 0-1.04.2-1.43.59L10.3 9.45l-7.72 7.72c-.78.78-.78 2.05 0 2.83L4 21.41c.39.39.9.59 1.41.59.51 0 1.02-.2 1.41-.59l7.78-7.78 2.81-2.81c.8-.78.8-2.07 0-2.86zM5.41 20L4 18.59l7.72-7.72 1.47 1.35L5.41 20z\"/>\n",
              "  </svg>\n",
              "      </button>\n",
              "      \n",
              "  <style>\n",
              "    .colab-df-container {\n",
              "      display:flex;\n",
              "      flex-wrap:wrap;\n",
              "      gap: 12px;\n",
              "    }\n",
              "\n",
              "    .colab-df-convert {\n",
              "      background-color: #E8F0FE;\n",
              "      border: none;\n",
              "      border-radius: 50%;\n",
              "      cursor: pointer;\n",
              "      display: none;\n",
              "      fill: #1967D2;\n",
              "      height: 32px;\n",
              "      padding: 0 0 0 0;\n",
              "      width: 32px;\n",
              "    }\n",
              "\n",
              "    .colab-df-convert:hover {\n",
              "      background-color: #E2EBFA;\n",
              "      box-shadow: 0px 1px 2px rgba(60, 64, 67, 0.3), 0px 1px 3px 1px rgba(60, 64, 67, 0.15);\n",
              "      fill: #174EA6;\n",
              "    }\n",
              "\n",
              "    [theme=dark] .colab-df-convert {\n",
              "      background-color: #3B4455;\n",
              "      fill: #D2E3FC;\n",
              "    }\n",
              "\n",
              "    [theme=dark] .colab-df-convert:hover {\n",
              "      background-color: #434B5C;\n",
              "      box-shadow: 0px 1px 3px 1px rgba(0, 0, 0, 0.15);\n",
              "      filter: drop-shadow(0px 1px 2px rgba(0, 0, 0, 0.3));\n",
              "      fill: #FFFFFF;\n",
              "    }\n",
              "  </style>\n",
              "\n",
              "      <script>\n",
              "        const buttonEl =\n",
              "          document.querySelector('#df-e8c0cb04-829e-463d-989d-4effd733b9a9 button.colab-df-convert');\n",
              "        buttonEl.style.display =\n",
              "          google.colab.kernel.accessAllowed ? 'block' : 'none';\n",
              "\n",
              "        async function convertToInteractive(key) {\n",
              "          const element = document.querySelector('#df-e8c0cb04-829e-463d-989d-4effd733b9a9');\n",
              "          const dataTable =\n",
              "            await google.colab.kernel.invokeFunction('convertToInteractive',\n",
              "                                                     [key], {});\n",
              "          if (!dataTable) return;\n",
              "\n",
              "          const docLinkHtml = 'Like what you see? Visit the ' +\n",
              "            '<a target=\"_blank\" href=https://colab.research.google.com/notebooks/data_table.ipynb>data table notebook</a>'\n",
              "            + ' to learn more about interactive tables.';\n",
              "          element.innerHTML = '';\n",
              "          dataTable['output_type'] = 'display_data';\n",
              "          await google.colab.output.renderOutput(dataTable, element);\n",
              "          const docLink = document.createElement('div');\n",
              "          docLink.innerHTML = docLinkHtml;\n",
              "          element.appendChild(docLink);\n",
              "        }\n",
              "      </script>\n",
              "    </div>\n",
              "  </div>\n",
              "  "
            ],
            "text/plain": [
              "            Adj Close                                                  \\\n",
              "                 AAPL        AMZN         IBM        META        MSFT   \n",
              "Date                                                                    \n",
              "2018-09-04  55.001377  101.975502  114.454788  171.160004  106.860054   \n",
              "2018-09-05  54.642506   99.740997  115.224739  167.179993  103.779854   \n",
              "2018-09-06  53.734489   97.915497  115.012619  162.529999  104.018990   \n",
              "2018-09-07  53.300961   97.603500  114.274101  163.039993  103.512009   \n",
              "2018-09-10  52.585617   96.950500  114.431213  164.179993  104.631226   \n",
              "\n",
              "                Close                                                  ...  \\\n",
              "                 AAPL        AMZN         IBM        META        MSFT  ...   \n",
              "Date                                                                   ...   \n",
              "2018-09-04  57.090000  101.975502  139.273422  171.160004  111.709999  ...   \n",
              "2018-09-05  56.717499   99.740997  140.210327  167.179993  108.489998  ...   \n",
              "2018-09-06  55.775002   97.915497  139.952194  162.529999  108.739998  ...   \n",
              "2018-09-07  55.325001   97.603500  139.053543  163.039993  108.209999  ...   \n",
              "2018-09-10  54.582500   96.950500  139.244736  164.179993  109.379997  ...   \n",
              "\n",
              "                 Open                                                  \\\n",
              "                 AAPL        AMZN         IBM        META        MSFT   \n",
              "Date                                                                    \n",
              "2018-09-04  57.102501  101.324997  139.560226  173.500000  110.849998   \n",
              "2018-09-05  57.247501  101.905502  138.804977  169.490005  111.010002   \n",
              "2018-09-06  56.557499  100.325500  140.420654  166.979996  108.250000   \n",
              "2018-09-07  55.462502   96.935501  139.521988  160.309998  108.230003   \n",
              "2018-09-10  55.237499   98.550003  140.152969  163.509995  108.839996   \n",
              "\n",
              "               Volume                                          \n",
              "                 AAPL       AMZN      IBM      META      MSFT  \n",
              "Date                                                           \n",
              "2018-09-04  109560400  114422000  3479205  29809000  22634600  \n",
              "2018-09-05  133332000  164412000  3270319  31226700  32872400  \n",
              "2018-09-06  137160000  149774000  4444245  41514800  23477600  \n",
              "2018-09-07  150479200   97852000  4908983  24300600  22498600  \n",
              "2018-09-10  158066000   90896000  3784742  20197700  20727900  \n",
              "\n",
              "[5 rows x 30 columns]"
            ]
          },
          "execution_count": 19,
          "metadata": {},
          "output_type": "execute_result"
        }
      ],
      "source": [
        "prices_df.head()"
      ]
    },
    {
      "cell_type": "markdown",
      "metadata": {
        "id": "zne_Wjf3dzxn"
      },
      "source": [
        "**Calculate Daily and Anualized Return and STD**"
      ]
    },
    {
      "cell_type": "code",
      "execution_count": null,
      "metadata": {
        "id": "JCDrWz5UdcgU"
      },
      "outputs": [],
      "source": [
        "returns_df = prices_df[\"Adj Close\"].pct_change().dropna()\n",
        "avg_return = returns_df.mean()*n_days\n",
        "cov_mat = returns_df.cov()*n_days"
      ]
    },
    {
      "cell_type": "code",
      "execution_count": null,
      "metadata": {
        "colab": {
          "base_uri": "https://localhost:8080/"
        },
        "id": "Bxay3B8tenk0",
        "outputId": "a7e2c1a1-3ada-4afa-8328-5d93ffcabca5"
      },
      "outputs": [
        {
          "data": {
            "text/plain": [
              "AAPL    0.323574\n",
              "AMZN    0.121555\n",
              "IBM     0.072613\n",
              "META    0.079507\n",
              "MSFT    0.272481\n",
              "dtype: float64"
            ]
          },
          "execution_count": 21,
          "metadata": {},
          "output_type": "execute_result"
        }
      ],
      "source": [
        "avg_return"
      ]
    },
    {
      "cell_type": "code",
      "execution_count": null,
      "metadata": {
        "colab": {
          "base_uri": "https://localhost:8080/",
          "height": 206
        },
        "id": "cYJzNEweeoAW",
        "outputId": "c9d7f6b6-ea1f-4a39-f3f1-a0fe350e1f05"
      },
      "outputs": [
        {
          "data": {
            "text/html": [
              "\n",
              "  <div id=\"df-1df68fa0-3dc2-4381-8d01-8b2489169a42\">\n",
              "    <div class=\"colab-df-container\">\n",
              "      <div>\n",
              "<style scoped>\n",
              "    .dataframe tbody tr th:only-of-type {\n",
              "        vertical-align: middle;\n",
              "    }\n",
              "\n",
              "    .dataframe tbody tr th {\n",
              "        vertical-align: top;\n",
              "    }\n",
              "\n",
              "    .dataframe thead th {\n",
              "        text-align: right;\n",
              "    }\n",
              "</style>\n",
              "<table border=\"1\" class=\"dataframe\">\n",
              "  <thead>\n",
              "    <tr style=\"text-align: right;\">\n",
              "      <th></th>\n",
              "      <th>AAPL</th>\n",
              "      <th>AMZN</th>\n",
              "      <th>IBM</th>\n",
              "      <th>META</th>\n",
              "      <th>MSFT</th>\n",
              "    </tr>\n",
              "  </thead>\n",
              "  <tbody>\n",
              "    <tr>\n",
              "      <th>AAPL</th>\n",
              "      <td>0.118187</td>\n",
              "      <td>0.082468</td>\n",
              "      <td>0.044566</td>\n",
              "      <td>0.088708</td>\n",
              "      <td>0.084218</td>\n",
              "    </tr>\n",
              "    <tr>\n",
              "      <th>AMZN</th>\n",
              "      <td>0.082468</td>\n",
              "      <td>0.129913</td>\n",
              "      <td>0.033348</td>\n",
              "      <td>0.095464</td>\n",
              "      <td>0.080592</td>\n",
              "    </tr>\n",
              "    <tr>\n",
              "      <th>IBM</th>\n",
              "      <td>0.044566</td>\n",
              "      <td>0.033348</td>\n",
              "      <td>0.082193</td>\n",
              "      <td>0.034583</td>\n",
              "      <td>0.043796</td>\n",
              "    </tr>\n",
              "    <tr>\n",
              "      <th>META</th>\n",
              "      <td>0.088708</td>\n",
              "      <td>0.095464</td>\n",
              "      <td>0.034583</td>\n",
              "      <td>0.172988</td>\n",
              "      <td>0.083826</td>\n",
              "    </tr>\n",
              "    <tr>\n",
              "      <th>MSFT</th>\n",
              "      <td>0.084218</td>\n",
              "      <td>0.080592</td>\n",
              "      <td>0.043796</td>\n",
              "      <td>0.083826</td>\n",
              "      <td>0.098473</td>\n",
              "    </tr>\n",
              "  </tbody>\n",
              "</table>\n",
              "</div>\n",
              "      <button class=\"colab-df-convert\" onclick=\"convertToInteractive('df-1df68fa0-3dc2-4381-8d01-8b2489169a42')\"\n",
              "              title=\"Convert this dataframe to an interactive table.\"\n",
              "              style=\"display:none;\">\n",
              "        \n",
              "  <svg xmlns=\"http://www.w3.org/2000/svg\" height=\"24px\"viewBox=\"0 0 24 24\"\n",
              "       width=\"24px\">\n",
              "    <path d=\"M0 0h24v24H0V0z\" fill=\"none\"/>\n",
              "    <path d=\"M18.56 5.44l.94 2.06.94-2.06 2.06-.94-2.06-.94-.94-2.06-.94 2.06-2.06.94zm-11 1L8.5 8.5l.94-2.06 2.06-.94-2.06-.94L8.5 2.5l-.94 2.06-2.06.94zm10 10l.94 2.06.94-2.06 2.06-.94-2.06-.94-.94-2.06-.94 2.06-2.06.94z\"/><path d=\"M17.41 7.96l-1.37-1.37c-.4-.4-.92-.59-1.43-.59-.52 0-1.04.2-1.43.59L10.3 9.45l-7.72 7.72c-.78.78-.78 2.05 0 2.83L4 21.41c.39.39.9.59 1.41.59.51 0 1.02-.2 1.41-.59l7.78-7.78 2.81-2.81c.8-.78.8-2.07 0-2.86zM5.41 20L4 18.59l7.72-7.72 1.47 1.35L5.41 20z\"/>\n",
              "  </svg>\n",
              "      </button>\n",
              "      \n",
              "  <style>\n",
              "    .colab-df-container {\n",
              "      display:flex;\n",
              "      flex-wrap:wrap;\n",
              "      gap: 12px;\n",
              "    }\n",
              "\n",
              "    .colab-df-convert {\n",
              "      background-color: #E8F0FE;\n",
              "      border: none;\n",
              "      border-radius: 50%;\n",
              "      cursor: pointer;\n",
              "      display: none;\n",
              "      fill: #1967D2;\n",
              "      height: 32px;\n",
              "      padding: 0 0 0 0;\n",
              "      width: 32px;\n",
              "    }\n",
              "\n",
              "    .colab-df-convert:hover {\n",
              "      background-color: #E2EBFA;\n",
              "      box-shadow: 0px 1px 2px rgba(60, 64, 67, 0.3), 0px 1px 3px 1px rgba(60, 64, 67, 0.15);\n",
              "      fill: #174EA6;\n",
              "    }\n",
              "\n",
              "    [theme=dark] .colab-df-convert {\n",
              "      background-color: #3B4455;\n",
              "      fill: #D2E3FC;\n",
              "    }\n",
              "\n",
              "    [theme=dark] .colab-df-convert:hover {\n",
              "      background-color: #434B5C;\n",
              "      box-shadow: 0px 1px 3px 1px rgba(0, 0, 0, 0.15);\n",
              "      filter: drop-shadow(0px 1px 2px rgba(0, 0, 0, 0.3));\n",
              "      fill: #FFFFFF;\n",
              "    }\n",
              "  </style>\n",
              "\n",
              "      <script>\n",
              "        const buttonEl =\n",
              "          document.querySelector('#df-1df68fa0-3dc2-4381-8d01-8b2489169a42 button.colab-df-convert');\n",
              "        buttonEl.style.display =\n",
              "          google.colab.kernel.accessAllowed ? 'block' : 'none';\n",
              "\n",
              "        async function convertToInteractive(key) {\n",
              "          const element = document.querySelector('#df-1df68fa0-3dc2-4381-8d01-8b2489169a42');\n",
              "          const dataTable =\n",
              "            await google.colab.kernel.invokeFunction('convertToInteractive',\n",
              "                                                     [key], {});\n",
              "          if (!dataTable) return;\n",
              "\n",
              "          const docLinkHtml = 'Like what you see? Visit the ' +\n",
              "            '<a target=\"_blank\" href=https://colab.research.google.com/notebooks/data_table.ipynb>data table notebook</a>'\n",
              "            + ' to learn more about interactive tables.';\n",
              "          element.innerHTML = '';\n",
              "          dataTable['output_type'] = 'display_data';\n",
              "          await google.colab.output.renderOutput(dataTable, element);\n",
              "          const docLink = document.createElement('div');\n",
              "          docLink.innerHTML = docLinkHtml;\n",
              "          element.appendChild(docLink);\n",
              "        }\n",
              "      </script>\n",
              "    </div>\n",
              "  </div>\n",
              "  "
            ],
            "text/plain": [
              "          AAPL      AMZN       IBM      META      MSFT\n",
              "AAPL  0.118187  0.082468  0.044566  0.088708  0.084218\n",
              "AMZN  0.082468  0.129913  0.033348  0.095464  0.080592\n",
              "IBM   0.044566  0.033348  0.082193  0.034583  0.043796\n",
              "META  0.088708  0.095464  0.034583  0.172988  0.083826\n",
              "MSFT  0.084218  0.080592  0.043796  0.083826  0.098473"
            ]
          },
          "execution_count": 22,
          "metadata": {},
          "output_type": "execute_result"
        }
      ],
      "source": [
        "cov_mat"
      ]
    },
    {
      "cell_type": "markdown",
      "metadata": {
        "id": "9CkSvhNafXXX"
      },
      "source": [
        "**Simulate the Portfolio with a random weight Allocation**"
      ]
    },
    {
      "cell_type": "code",
      "execution_count": null,
      "metadata": {
        "id": "nUDm-sjtevi6"
      },
      "outputs": [],
      "source": [
        "np.random.seed(42)\n",
        "weights = np.random.random(size = (n_portfolios, n_assets))\n",
        "weights = weights/np.sum(weights, axis=1)[:, np.newaxis]"
      ]
    },
    {
      "cell_type": "code",
      "execution_count": null,
      "metadata": {
        "colab": {
          "base_uri": "https://localhost:8080/"
        },
        "id": "-Da_l7f0gDei",
        "outputId": "e50db3d9-4f9d-4181-eb89-fe0ac3ff9642"
      },
      "outputs": [
        {
          "data": {
            "text/plain": [
              "array([[0.13319703, 0.33810082, 0.26031769, 0.21289984, 0.05548463],\n",
              "       [0.06528492, 0.02430844, 0.36250145, 0.25157131, 0.29633388],\n",
              "       [0.00928442, 0.43746759, 0.37546445, 0.09577331, 0.08201023],\n",
              "       ...,\n",
              "       [0.20159568, 0.1276073 , 0.23897949, 0.25821686, 0.17360066],\n",
              "       [0.06162576, 0.23687072, 0.20328404, 0.22043154, 0.27778794],\n",
              "       [0.19378302, 0.288101  , 0.14201812, 0.19362775, 0.18247011]])"
            ]
          },
          "execution_count": 24,
          "metadata": {},
          "output_type": "execute_result"
        }
      ],
      "source": [
        "weights "
      ]
    },
    {
      "cell_type": "markdown",
      "metadata": {
        "id": "shJhBpK5ghyJ"
      },
      "source": [
        "**Developing the Portfolio**"
      ]
    },
    {
      "cell_type": "code",
      "execution_count": null,
      "metadata": {
        "id": "YsBEdeE6gad8"
      },
      "outputs": [],
      "source": [
        "portf_rtns = np.dot(weights, avg_return)\n",
        "\n",
        "portf_vol = []\n",
        "\n",
        "for i in range (0, len(weights)):\n",
        "  portf_vol.append(np.sqrt(np.dot(weights[i].T, np.dot(cov_mat, weights[i]))))\n",
        "\n",
        "portf_vol = np.array(portf_vol)\n",
        "portf_sharpe_ratio = portf_rtns/portf_vol"
      ]
    },
    {
      "cell_type": "markdown",
      "metadata": {
        "id": "PjokpPlBicIO"
      },
      "source": [
        "**Create a Data Frame to see the Result**"
      ]
    },
    {
      "cell_type": "code",
      "execution_count": null,
      "metadata": {
        "colab": {
          "base_uri": "https://localhost:8080/",
          "height": 424
        },
        "id": "vkVmZ1-gif0C",
        "outputId": "9a3b4a5a-1f2d-481d-d83d-d0be1c02f658"
      },
      "outputs": [
        {
          "data": {
            "text/html": [
              "\n",
              "  <div id=\"df-e7a631a3-fe85-46e1-92c3-ee3a17521763\">\n",
              "    <div class=\"colab-df-container\">\n",
              "      <div>\n",
              "<style scoped>\n",
              "    .dataframe tbody tr th:only-of-type {\n",
              "        vertical-align: middle;\n",
              "    }\n",
              "\n",
              "    .dataframe tbody tr th {\n",
              "        vertical-align: top;\n",
              "    }\n",
              "\n",
              "    .dataframe thead th {\n",
              "        text-align: right;\n",
              "    }\n",
              "</style>\n",
              "<table border=\"1\" class=\"dataframe\">\n",
              "  <thead>\n",
              "    <tr style=\"text-align: right;\">\n",
              "      <th></th>\n",
              "      <th>returns</th>\n",
              "      <th>volatility</th>\n",
              "      <th>sharpe_ratio</th>\n",
              "    </tr>\n",
              "  </thead>\n",
              "  <tbody>\n",
              "    <tr>\n",
              "      <th>0</th>\n",
              "      <td>0.135145</td>\n",
              "      <td>0.277798</td>\n",
              "      <td>0.486486</td>\n",
              "    </tr>\n",
              "    <tr>\n",
              "      <th>1</th>\n",
              "      <td>0.151149</td>\n",
              "      <td>0.265804</td>\n",
              "      <td>0.568647</td>\n",
              "    </tr>\n",
              "    <tr>\n",
              "      <th>2</th>\n",
              "      <td>0.113405</td>\n",
              "      <td>0.266859</td>\n",
              "      <td>0.424961</td>\n",
              "    </tr>\n",
              "    <tr>\n",
              "      <th>3</th>\n",
              "      <td>0.142966</td>\n",
              "      <td>0.270417</td>\n",
              "      <td>0.528687</td>\n",
              "    </tr>\n",
              "    <tr>\n",
              "      <th>4</th>\n",
              "      <td>0.208770</td>\n",
              "      <td>0.285648</td>\n",
              "      <td>0.730864</td>\n",
              "    </tr>\n",
              "    <tr>\n",
              "      <th>...</th>\n",
              "      <td>...</td>\n",
              "      <td>...</td>\n",
              "      <td>...</td>\n",
              "    </tr>\n",
              "    <tr>\n",
              "      <th>99995</th>\n",
              "      <td>0.173690</td>\n",
              "      <td>0.276536</td>\n",
              "      <td>0.628094</td>\n",
              "    </tr>\n",
              "    <tr>\n",
              "      <th>99996</th>\n",
              "      <td>0.118634</td>\n",
              "      <td>0.268261</td>\n",
              "      <td>0.442234</td>\n",
              "    </tr>\n",
              "    <tr>\n",
              "      <th>99997</th>\n",
              "      <td>0.165928</td>\n",
              "      <td>0.277660</td>\n",
              "      <td>0.597595</td>\n",
              "    </tr>\n",
              "    <tr>\n",
              "      <th>99998</th>\n",
              "      <td>0.156712</td>\n",
              "      <td>0.279383</td>\n",
              "      <td>0.560922</td>\n",
              "    </tr>\n",
              "    <tr>\n",
              "      <th>99999</th>\n",
              "      <td>0.173150</td>\n",
              "      <td>0.287864</td>\n",
              "      <td>0.601499</td>\n",
              "    </tr>\n",
              "  </tbody>\n",
              "</table>\n",
              "<p>100000 rows × 3 columns</p>\n",
              "</div>\n",
              "      <button class=\"colab-df-convert\" onclick=\"convertToInteractive('df-e7a631a3-fe85-46e1-92c3-ee3a17521763')\"\n",
              "              title=\"Convert this dataframe to an interactive table.\"\n",
              "              style=\"display:none;\">\n",
              "        \n",
              "  <svg xmlns=\"http://www.w3.org/2000/svg\" height=\"24px\"viewBox=\"0 0 24 24\"\n",
              "       width=\"24px\">\n",
              "    <path d=\"M0 0h24v24H0V0z\" fill=\"none\"/>\n",
              "    <path d=\"M18.56 5.44l.94 2.06.94-2.06 2.06-.94-2.06-.94-.94-2.06-.94 2.06-2.06.94zm-11 1L8.5 8.5l.94-2.06 2.06-.94-2.06-.94L8.5 2.5l-.94 2.06-2.06.94zm10 10l.94 2.06.94-2.06 2.06-.94-2.06-.94-.94-2.06-.94 2.06-2.06.94z\"/><path d=\"M17.41 7.96l-1.37-1.37c-.4-.4-.92-.59-1.43-.59-.52 0-1.04.2-1.43.59L10.3 9.45l-7.72 7.72c-.78.78-.78 2.05 0 2.83L4 21.41c.39.39.9.59 1.41.59.51 0 1.02-.2 1.41-.59l7.78-7.78 2.81-2.81c.8-.78.8-2.07 0-2.86zM5.41 20L4 18.59l7.72-7.72 1.47 1.35L5.41 20z\"/>\n",
              "  </svg>\n",
              "      </button>\n",
              "      \n",
              "  <style>\n",
              "    .colab-df-container {\n",
              "      display:flex;\n",
              "      flex-wrap:wrap;\n",
              "      gap: 12px;\n",
              "    }\n",
              "\n",
              "    .colab-df-convert {\n",
              "      background-color: #E8F0FE;\n",
              "      border: none;\n",
              "      border-radius: 50%;\n",
              "      cursor: pointer;\n",
              "      display: none;\n",
              "      fill: #1967D2;\n",
              "      height: 32px;\n",
              "      padding: 0 0 0 0;\n",
              "      width: 32px;\n",
              "    }\n",
              "\n",
              "    .colab-df-convert:hover {\n",
              "      background-color: #E2EBFA;\n",
              "      box-shadow: 0px 1px 2px rgba(60, 64, 67, 0.3), 0px 1px 3px 1px rgba(60, 64, 67, 0.15);\n",
              "      fill: #174EA6;\n",
              "    }\n",
              "\n",
              "    [theme=dark] .colab-df-convert {\n",
              "      background-color: #3B4455;\n",
              "      fill: #D2E3FC;\n",
              "    }\n",
              "\n",
              "    [theme=dark] .colab-df-convert:hover {\n",
              "      background-color: #434B5C;\n",
              "      box-shadow: 0px 1px 3px 1px rgba(0, 0, 0, 0.15);\n",
              "      filter: drop-shadow(0px 1px 2px rgba(0, 0, 0, 0.3));\n",
              "      fill: #FFFFFF;\n",
              "    }\n",
              "  </style>\n",
              "\n",
              "      <script>\n",
              "        const buttonEl =\n",
              "          document.querySelector('#df-e7a631a3-fe85-46e1-92c3-ee3a17521763 button.colab-df-convert');\n",
              "        buttonEl.style.display =\n",
              "          google.colab.kernel.accessAllowed ? 'block' : 'none';\n",
              "\n",
              "        async function convertToInteractive(key) {\n",
              "          const element = document.querySelector('#df-e7a631a3-fe85-46e1-92c3-ee3a17521763');\n",
              "          const dataTable =\n",
              "            await google.colab.kernel.invokeFunction('convertToInteractive',\n",
              "                                                     [key], {});\n",
              "          if (!dataTable) return;\n",
              "\n",
              "          const docLinkHtml = 'Like what you see? Visit the ' +\n",
              "            '<a target=\"_blank\" href=https://colab.research.google.com/notebooks/data_table.ipynb>data table notebook</a>'\n",
              "            + ' to learn more about interactive tables.';\n",
              "          element.innerHTML = '';\n",
              "          dataTable['output_type'] = 'display_data';\n",
              "          await google.colab.output.renderOutput(dataTable, element);\n",
              "          const docLink = document.createElement('div');\n",
              "          docLink.innerHTML = docLinkHtml;\n",
              "          element.appendChild(docLink);\n",
              "        }\n",
              "      </script>\n",
              "    </div>\n",
              "  </div>\n",
              "  "
            ],
            "text/plain": [
              "        returns  volatility  sharpe_ratio\n",
              "0      0.135145    0.277798      0.486486\n",
              "1      0.151149    0.265804      0.568647\n",
              "2      0.113405    0.266859      0.424961\n",
              "3      0.142966    0.270417      0.528687\n",
              "4      0.208770    0.285648      0.730864\n",
              "...         ...         ...           ...\n",
              "99995  0.173690    0.276536      0.628094\n",
              "99996  0.118634    0.268261      0.442234\n",
              "99997  0.165928    0.277660      0.597595\n",
              "99998  0.156712    0.279383      0.560922\n",
              "99999  0.173150    0.287864      0.601499\n",
              "\n",
              "[100000 rows x 3 columns]"
            ]
          },
          "execution_count": 26,
          "metadata": {},
          "output_type": "execute_result"
        }
      ],
      "source": [
        "portf_results_df = pd.DataFrame({\"returns\": portf_rtns, \"volatility\": portf_vol, \"sharpe_ratio\": portf_sharpe_ratio})\n",
        "portf_results_df "
      ]
    },
    {
      "cell_type": "markdown",
      "metadata": {
        "id": "u5goU90vpUdd"
      },
      "source": [
        "**Locating the points in Effecient Frontier**"
      ]
    },
    {
      "cell_type": "code",
      "execution_count": null,
      "metadata": {
        "id": "KkIzs4_Bp1uR"
      },
      "outputs": [],
      "source": [
        "n_points = 200\n",
        "portf_vol_ef = []\n",
        "indices_to_skip = []\n",
        "\n",
        "portf_rtns_ef = np.linspace(portf_results_df.returns.min(), portf_results_df.returns.max(), n_points)\n",
        "\n",
        "portf_rtns_ef = np.round(portf_rtns_ef, 2)\n",
        "portf_rtns = np.round(portf_rtns, 2)\n",
        "\n",
        "for print_index in range(n_points):\n",
        "  if portf_rtns_ef[print_index] not in portf_rtns:\n",
        "    indices_to_skip.append(print_index)\n",
        "    continue\n",
        "  matched_ind = np.where(portf_rtns == portf_rtns_ef[print_index])\n",
        "  portf_vol_ef.append(np.min(portf_vol[matched_ind]))\n",
        "\n",
        "portf_rtns_ef = np.delete(portf_rtns_ef, indices_to_skip )"
      ]
    },
    {
      "cell_type": "markdown",
      "metadata": {
        "id": "MD_hBVPgtrF2"
      },
      "source": [
        "**Plotting the Opportunity Set of the Portfolios**"
      ]
    },
    {
      "cell_type": "code",
      "execution_count": null,
      "metadata": {
        "colab": {
          "base_uri": "https://localhost:8080/",
          "height": 312
        },
        "id": "q9JZm1ngtyXl",
        "outputId": "0e9f6085-1467-4f77-afef-bc44f4619144"
      },
      "outputs": [
        {
          "data": {
            "text/plain": [
              "<matplotlib.legend.Legend at 0x7fd6db2dec10>"
            ]
          },
          "execution_count": 29,
          "metadata": {},
          "output_type": "execute_result"
        },
        {
          "data": {
            "image/png": "[encoded data removed]",
            "text/plain": [
              "<Figure size 432x288 with 2 Axes>"
            ]
          },
          "metadata": {
            "needs_background": "light"
          },
          "output_type": "display_data"
        }
      ],
      "source": [
        "marks = [\"o\", \"X\", \"d\", \"*\", \"x\"]\n",
        "\n",
        "fig, ax = plt.subplots()\n",
        "\n",
        "portf_results_df.plot(kind =\"scatter\", x = \"volatility\", y = \"returns\", c = \"sharpe_ratio\", cmap = \"RdYlBu\", edgecolors = \"black\", ax = ax)\n",
        "\n",
        "ax.set(xlabel = \"volatility\", ylabel = \"Exp_returns\", title = \"Effecient Frontier\")\n",
        "\n",
        "ax.plot(portf_vol_ef,portf_rtns_ef , \"b--\" )\n",
        "\n",
        "for asset_index in range(n_assets):\n",
        "  ax.scatter(x = np.sqrt(cov_mat.iloc[asset_index, asset_index]), \n",
        "             y = avg_return[asset_index], marker = marks[asset_index], \n",
        "             s = 150, color = \"blue\", label = risky_assets[asset_index])\n",
        "\n",
        "ax.legend()"
      ]
    },
    {
      "cell_type": "markdown",
      "metadata": {
        "id": "1e2jXffG1e95"
      },
      "source": [
        "**Finding out the Best Portfolio**"
      ]
    },
    {
      "cell_type": "markdown",
      "metadata": {
        "id": "QOnajpbf1qb4"
      },
      "source": [
        "**Portfolio with Max Sharpe Ratio**"
      ]
    },
    {
      "cell_type": "code",
      "execution_count": null,
      "metadata": {
        "id": "wNvE03pL1j87"
      },
      "outputs": [],
      "source": [
        "max_sharpe_ind = np.argmax(portf_results_df.sharpe_ratio)\n",
        "max_sharpe_portf = portf_results_df.loc[max_sharpe_ind]"
      ]
    },
    {
      "cell_type": "code",
      "execution_count": null,
      "metadata": {
        "colab": {
          "base_uri": "https://localhost:8080/"
        },
        "id": "csFU7pBi2Uf5",
        "outputId": "f7a3d16f-877e-4b98-a1e5-6fe81039a4d3"
      },
      "outputs": [
        {
          "name": "stdout",
          "output_type": "stream",
          "text": [
            "Max Sharpe Ratio Portfolio\n",
            "**************************\n",
            "Performance of the Portfolio\n",
            "****************************\n",
            "returns: 30.532%  volatility: 31.898%  sharpe_ratio: 95.717%  \n",
            "WEIGHT of the Optimum Portfolio\n",
            "*********************************\n",
            "AAPL: 73.648%  AMZN: 0.232%  IBM: 2.177%  META: 0.045%  MSFT: 23.898%  "
          ]
        }
      ],
      "source": [
        "print(\"Max Sharpe Ratio Portfolio\")\n",
        "print(\"**************************\")\n",
        "print(\"Performance of the Portfolio\")\n",
        "print(\"****************************\")\n",
        "\n",
        "for index, value in max_sharpe_portf.items():\n",
        "  print(f\"{index}: {100*value:.3f}%  \", end = \"\", flush = True)\n",
        "\n",
        "print(\"\\nWEIGHT of the Optimum Portfolio\")\n",
        "print(\"*********************************\")\n",
        "\n",
        "for x, y in zip(risky_assets, weights[np.argmax(portf_results_df.sharpe_ratio)]):\n",
        "  print(f\"{x}: {100*y:.3f}%  \", end = \"\", flush = True)"
      ]
    },
    {
      "cell_type": "code",
      "execution_count": null,
      "metadata": {
        "id": "tBtnKCrT41hb"
      },
      "outputs": [],
      "source": [
        "min_vol_ind = np.argmin(portf_results_df.volatility)\n",
        "min_vol_portf = portf_results_df.loc[min_vol_ind]"
      ]
    },
    {
      "cell_type": "code",
      "execution_count": null,
      "metadata": {
        "colab": {
          "base_uri": "https://localhost:8080/"
        },
        "id": "5IShkX-J5Izq",
        "outputId": "b0424f17-7bae-47fa-8e14-475fb66c7157"
      },
      "outputs": [
        {
          "name": "stdout",
          "output_type": "stream",
          "text": [
            "Min Volatility Portfolio\n",
            "**************************\n",
            "Performance of the Portfolio\n",
            "****************************\n",
            "returns: 11.953%  volatility: 25.152%  sharpe_ratio: 47.525%  \n",
            "WEIGHT of the Optimum Portfolio\n",
            "*********************************\n",
            "AAPL: 3.341%  AMZN: 19.234%  IBM: 56.378%  META: 6.708%  MSFT: 14.338%  "
          ]
        }
      ],
      "source": [
        "print(\"Min Volatility Portfolio\")\n",
        "print(\"**************************\")\n",
        "print(\"Performance of the Portfolio\")\n",
        "print(\"****************************\")\n",
        "\n",
        "for index, value in min_vol_portf.items():\n",
        "  print(f\"{index}: {100*value:.3f}%  \", end = \"\", flush = True)\n",
        "\n",
        "print(\"\\nWEIGHT of the Optimum Portfolio\")\n",
        "print(\"*********************************\")\n",
        "\n",
        "for x, y in zip(risky_assets, weights[np.argmin(portf_results_df.volatility)]):\n",
        "  print(f\"{x}: {100*y:.3f}%  \", end = \"\", flush = True)"
      ]
    }
  ],
  "metadata": {
    "colab": {
      "provenance": []
    },
    "kernelspec": {
      "display_name": "Python 3.10.3 64-bit",
      "language": "python",
      "name": "python3"
    },
    "language_info": {
      "codemirror_mode": {
        "name": "ipython",
        "version": 3
      },
      "file_extension": ".py",
      "mimetype": "text/x-python",
      "name": "python",
      "nbconvert_exporter": "python",
      "pygments_lexer": "ipython3",
      "version": "3.10.3 (tags/v3.10.3:a342a49, Mar 16 2022, 13:07:40) [MSC v.1929 64 bit (AMD64)]"
    },
    "vscode": {
      "interpreter": {
        "hash": "17df4eaa9eff25f1c71c75bdad646253a8ce0b434d365e769c4817d154dab7a2"
      }
    }
  },
  "nbformat": 4,
  "nbformat_minor": 0
}
